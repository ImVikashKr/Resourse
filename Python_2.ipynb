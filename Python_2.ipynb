{
  "nbformat": 4,
  "nbformat_minor": 0,
  "metadata": {
    "colab": {
      "provenance": [],
      "include_colab_link": true
    },
    "kernelspec": {
      "name": "python3",
      "display_name": "Python 3"
    },
    "language_info": {
      "name": "python"
    }
  },
  "cells": [
    {
      "cell_type": "markdown",
      "metadata": {
        "id": "view-in-github",
        "colab_type": "text"
      },
      "source": [
        "<a href=\"https://colab.research.google.com/github/ImVikashKr/Resourse/blob/main/Python_2.ipynb\" target=\"_parent\"><img src=\"https://colab.research.google.com/assets/colab-badge.svg\" alt=\"Open In Colab\"/></a>"
      ]
    },
    {
      "cell_type": "markdown",
      "source": [
        "# **Functions**\n",
        "\n",
        "Functions will be one of our main building blocks when we construct larger and larger amounts of code to solve problems.\n",
        "\n",
        "**So what is a function?**\n",
        "\n",
        "Formally, a function is a useful device that groups together a set of statements so they can be run more than once. They can also let us specify parameters that can serve as inputs to the functions.\n",
        "\n",
        "On a more fundamental level, functions allow us to not have to repeatedly write the same code again and again.\n",
        "\n",
        "Functions will be one of the most basic levels of **reusing code in Python**."
      ],
      "metadata": {
        "id": "WXdgGQJitZF9"
      }
    },
    {
      "cell_type": "markdown",
      "source": [
        "### <code>def</code> Statements:"
      ],
      "metadata": {
        "id": "3nnBzn-SvJGR"
      }
    },
    {
      "cell_type": "code",
      "execution_count": null,
      "metadata": {
        "id": "TNC8LvF-tT7I"
      },
      "outputs": [],
      "source": [
        "def example_function(arg1, arg2):\n",
        "  '''\n",
        "  This is where the function's Document String (docstring) goes\n",
        "  '''\n",
        "  # Do stuff here\n",
        "  return desired_result"
      ]
    },
    {
      "cell_type": "markdown",
      "source": [
        "* We begin with <code>def</code> then a space followed by the name of the function. Try to keep names relevant, for example <code>len()</code> is a good name for a <code>length()</code> function. Also be careful with names, you wouldn't want to call a function the same name as a [built-in function in Python](https://docs.python.org/2/library/functions.html) (such as len).\n",
        "\n",
        "* Next come a pair of parentheses with a number of arguments separated by a comma. These arguments are the inputs for your function. You'll be able to use these inputs in your function and reference them. After this you put a colon.\n",
        "\n",
        "* Now here is the important step, you must indent to begin the code inside your function correctly. Python makes use of *whitespace* to organize code. Lots of other programing languages do not do this, so keep that in mind.\n",
        "\n",
        "* Next you'll see the docstring, this is where you write a basic description of the function. Using iPython and iPython Notebooks, you'll be able to read these docstrings by pressing Shift+Tab after a function name. Docstrings are not necessary for simple functions, but it's good practice to put them in so you or other people can easily understand the code you write.\n",
        "\n",
        "After all this you begin writing the code you wish to execute.\n",
        "\n",
        "* <code>return</code> allows a function to *return* a result that can then be stored as a variable, or used in whatever manner a user wants."
      ],
      "metadata": {
        "id": "WHeCeB_GASZZ"
      }
    },
    {
      "cell_type": "markdown",
      "source": [
        "**What is the difference between return and print?**\n",
        "\n",
        "* The return keyword allows you to actually save the result of the output of a function as a variable. The print() function simply displays the output to you, but doesn't save it for future use."
      ],
      "metadata": {
        "id": "-qvvEx4X_Hom"
      }
    },
    {
      "cell_type": "code",
      "source": [
        "def extract_first_letters(sentence):\n",
        "  '''\n",
        "  This function takes a sentence as an input and returns\n",
        "  the list of first letters of each word\n",
        "  '''\n",
        "\n",
        "  # Step 1 : Get the list of words in this sentence\n",
        "  words_in_sentence = sentence.split(' ')\n",
        "\n",
        "  # Step 2: Write a list comprehension to extract the first letters\n",
        "  first_letters = [word[0] for word in words_in_sentence]\n",
        "\n",
        "  # Step 3: Return the output list first_letters\n",
        "  return first_letters"
      ],
      "metadata": {
        "id": "gCu43GPYAhcz"
      },
      "execution_count": null,
      "outputs": []
    },
    {
      "cell_type": "code",
      "source": [
        "starwars_quote = \"May the Force be with you.\"\n",
        "first_letters_starwars = extract_first_letters(starwars_quote)\n",
        "print(first_letters_starwars)"
      ],
      "metadata": {
        "colab": {
          "base_uri": "https://localhost:8080/"
        },
        "id": "owM4y1WVAjWB",
        "outputId": "a73bd31a-34ba-4838-903d-9c7eba3edd73"
      },
      "execution_count": null,
      "outputs": [
        {
          "output_type": "stream",
          "name": "stdout",
          "text": [
            "['M', 't', 'F', 'b', 'w', 'y']\n"
          ]
        }
      ]
    },
    {
      "cell_type": "markdown",
      "source": [
        "### <b>`*args` and `**kwargs`</b>\n",
        "\n",
        "Work with Python long enough, and eventually you will encounter `*args` and `**kwargs`. These strange terms show up as parameters in function definitions.\n",
        "\n",
        "#### <b>`*args`</b>\n",
        "\n",
        "When a function parameter starts with an asterisk, it allows for an *arbitrary number* of arguments, and the function takes them in as a tuple of values. Rewriting the above function:"
      ],
      "metadata": {
        "id": "q2UX_OnJI1fS"
      }
    },
    {
      "cell_type": "code",
      "source": [
        "def myfunc(*args):\n",
        "    return sum(args)*.05\n",
        "\n",
        "myfunc(40,60,20)"
      ],
      "metadata": {
        "colab": {
          "base_uri": "https://localhost:8080/"
        },
        "id": "NBSgduczJMDy",
        "outputId": "542c3c24-9eaf-4b69-b825-24898c00d4be"
      },
      "execution_count": null,
      "outputs": [
        {
          "output_type": "execute_result",
          "data": {
            "text/plain": [
              "6.0"
            ]
          },
          "metadata": {},
          "execution_count": 26
        }
      ]
    },
    {
      "cell_type": "markdown",
      "source": [
        "Notice how passing the keyword \"args\" into the `sum()` function did the same thing as a tuple of arguments.\n",
        "\n",
        "It is worth noting that the word \"args\" is itself arbitrary - any word will do so long as it's preceded by an asterisk. To demonstrate this:"
      ],
      "metadata": {
        "id": "B-SoEuPmJv5z"
      }
    },
    {
      "cell_type": "code",
      "source": [
        "def myfunc(*spam):\n",
        "    return sum(spam)*.05\n",
        "\n",
        "myfunc(40,60,20)"
      ],
      "metadata": {
        "colab": {
          "base_uri": "https://localhost:8080/"
        },
        "id": "rziUuPkrJvXb",
        "outputId": "421a6e59-fdbf-4853-9aee-64e4ba6f3866"
      },
      "execution_count": null,
      "outputs": [
        {
          "output_type": "execute_result",
          "data": {
            "text/plain": [
              "6.0"
            ]
          },
          "metadata": {},
          "execution_count": 27
        }
      ]
    },
    {
      "cell_type": "markdown",
      "source": [
        "#### <b>`**kwargs`</b>\n",
        "\n",
        "Similarly, Python offers a way to handle arbitrary numbers of *keyworded* arguments. Instead of creating a tuple of values, `**kwargs` builds a dictionary of key/value pairs. For example:"
      ],
      "metadata": {
        "id": "nIFIc17HKMh0"
      }
    },
    {
      "cell_type": "code",
      "source": [
        "def myfunc(**kwargs):\n",
        "    if 'fruit' in kwargs:\n",
        "        print(f\"My favorite fruit is {kwargs['fruit']}\")  # review String Formatting and f-strings if this syntax is unfamiliar\n",
        "    else:\n",
        "        print(\"I don't like fruit\")\n",
        "\n",
        "myfunc(fruit='pineapple')"
      ],
      "metadata": {
        "colab": {
          "base_uri": "https://localhost:8080/"
        },
        "id": "A6xhELE5KZZ0",
        "outputId": "66437c89-f6c1-4ec7-af5b-4b34ce756b3d"
      },
      "execution_count": null,
      "outputs": [
        {
          "output_type": "stream",
          "name": "stdout",
          "text": [
            "My favorite fruit is pineapple\n"
          ]
        }
      ]
    },
    {
      "cell_type": "code",
      "source": [
        "myfunc()"
      ],
      "metadata": {
        "colab": {
          "base_uri": "https://localhost:8080/"
        },
        "id": "l2pdyBFvKc8T",
        "outputId": "92de946e-cc0d-4ed1-aed8-552d15664dff"
      },
      "execution_count": null,
      "outputs": [
        {
          "output_type": "stream",
          "name": "stdout",
          "text": [
            "I don't like fruit\n"
          ]
        }
      ]
    },
    {
      "cell_type": "markdown",
      "source": [
        "### <b>`*args` and `**kwargs` combined</b>\n",
        "\n",
        "You can pass `*args` and `**kwargs` into the same function, but `*args` have to appear before `**kwargs`"
      ],
      "metadata": {
        "id": "wQWLbVtZKjdr"
      }
    },
    {
      "cell_type": "code",
      "source": [
        "def myfunc(*args, **kwargs):\n",
        "    if 'fruit' and 'juice' in kwargs:\n",
        "        print(f\"I like {' and '.join(args)} and my favorite fruit is {kwargs['fruit']}\")\n",
        "        print(f\"May I have some {kwargs['juice']} juice?\")\n",
        "    else:\n",
        "        pass\n",
        "\n",
        "myfunc('eggs','spam',fruit='cherries',juice='orange')"
      ],
      "metadata": {
        "colab": {
          "base_uri": "https://localhost:8080/"
        },
        "id": "WY92O7SeKs_9",
        "outputId": "3dde44cb-323d-4a65-d64c-71f2782cb127"
      },
      "execution_count": null,
      "outputs": [
        {
          "output_type": "stream",
          "name": "stdout",
          "text": [
            "I like eggs and spam and my favorite fruit is cherries\n",
            "May I have some orange juice?\n"
          ]
        }
      ]
    },
    {
      "cell_type": "markdown",
      "source": [
        "Placing keyworded arguments ahead of positional arguments raises an exception:"
      ],
      "metadata": {
        "id": "nm3N2a4-LgwU"
      }
    },
    {
      "cell_type": "code",
      "source": [
        "myfunc(fruit='cherries',juice='orange','eggs','spam')"
      ],
      "metadata": {
        "colab": {
          "base_uri": "https://localhost:8080/",
          "height": 135
        },
        "id": "W78R8f-gKjAT",
        "outputId": "131d54fe-de95-4bc6-ff41-216294c95255"
      },
      "execution_count": null,
      "outputs": [
        {
          "output_type": "error",
          "ename": "SyntaxError",
          "evalue": "ignored",
          "traceback": [
            "\u001b[0;36m  File \u001b[0;32m\"<ipython-input-31-fc6ff65addcc>\"\u001b[0;36m, line \u001b[0;32m1\u001b[0m\n\u001b[0;31m    myfunc(fruit='cherries',juice='orange','eggs','spam')\u001b[0m\n\u001b[0m                                           ^\u001b[0m\n\u001b[0;31mSyntaxError\u001b[0m\u001b[0;31m:\u001b[0m positional argument follows keyword argument\n"
          ]
        }
      ]
    },
    {
      "cell_type": "markdown",
      "source": [
        "**As with \"args\", you can use any name you'd like for keyworded arguments - \"kwargs\" is just a popular convention.**"
      ],
      "metadata": {
        "id": "42xIiCjLLrYc"
      }
    },
    {
      "cell_type": "code",
      "source": [
        "def factorial(num):\n",
        "    '''\n",
        "    Function for calculating factorial of a number\n",
        "    '''\n",
        "\n",
        "    # Step 1 : Write an if  statement to print a message if the input number is negative\n",
        "    if num < 0:\n",
        "      print(\"Factorial is not defined for negative numbers.\")\n",
        "\n",
        "    # Step 2: Write the elif statement to calculate the factorial\n",
        "    elif num > 0:\n",
        "      result = 1\n",
        "      for i in range(1, num+1):\n",
        "        result = result * i\n",
        "      # print(f\"The factorial of {num} is {result}.\")\n",
        "\n",
        "    # Step 3: Write the else statement to take care of the input 0\n",
        "    else:\n",
        "      print(\"The factorial of 0 is 1.\")\n",
        "\n",
        "    # Step 4 : Return the output variable result\n",
        "\n",
        "    return result"
      ],
      "metadata": {
        "id": "yyDiIhcuAniB"
      },
      "execution_count": null,
      "outputs": []
    },
    {
      "cell_type": "code",
      "source": [
        "fact_seven = factorial(10)\n",
        "print(fact_seven)"
      ],
      "metadata": {
        "colab": {
          "base_uri": "https://localhost:8080/"
        },
        "id": "pLLYqOGxAvzJ",
        "outputId": "3cd18bbc-3bed-45b5-e47d-29040e22f720"
      },
      "execution_count": null,
      "outputs": [
        {
          "output_type": "stream",
          "name": "stdout",
          "text": [
            "3628800\n"
          ]
        }
      ]
    },
    {
      "cell_type": "code",
      "source": [
        "fact_seven = factorial(5)\n",
        "print(fact_seven)"
      ],
      "metadata": {
        "colab": {
          "base_uri": "https://localhost:8080/"
        },
        "id": "ripHvM8xAxvE",
        "outputId": "808053c7-4f62-45d6-9083-30837baafbfa"
      },
      "execution_count": null,
      "outputs": [
        {
          "output_type": "stream",
          "name": "stdout",
          "text": [
            "120\n"
          ]
        }
      ]
    },
    {
      "cell_type": "code",
      "source": [
        "# Now let us define a list of numbers for which we want to calculate the factorials\n",
        "list_of_numbers = [3, 5, 8, 12, 4, 6]\n",
        "\n",
        "# We can write a list comprehension for the same task\n",
        "factorial_list = [factorial(number) for number in list_of_numbers if number%2!=0]\n",
        "print(factorial_list)"
      ],
      "metadata": {
        "colab": {
          "base_uri": "https://localhost:8080/"
        },
        "id": "p4S06Zu-BHxp",
        "outputId": "3088ed31-204f-4723-edbc-aa18a8bcf0a1"
      },
      "execution_count": null,
      "outputs": [
        {
          "output_type": "stream",
          "name": "stdout",
          "text": [
            "[6, 120]\n"
          ]
        }
      ]
    },
    {
      "cell_type": "code",
      "source": [
        "def assignQuarter(user_date):\n",
        "  '''\n",
        "  This function prints the quarter for a given date string\n",
        "  '''\n",
        "\n",
        "  # Step 1 : Extract the year and month from the input date string\n",
        "  date_year = user_date[:4]\n",
        "  date_month = user_date[5:7]\n",
        "\n",
        "  # Step 2 : Store the quarter value in a string variable named quarter\n",
        "  if (date_month >= '01') & (date_month <='03'):\n",
        "    quarter = date_year + '-Q1'\n",
        "  elif (date_month >= '04') & (date_month <='06'):\n",
        "    quarter = date_year + '-Q2'\n",
        "  elif (date_month >= '07') & (date_month <='09'):\n",
        "    quarter = date_year + '-Q3'\n",
        "  else:\n",
        "    quarter = date_year + '-Q4'\n",
        "\n",
        "  # Step 3 : Print the message you want to display to the user. Here we are not returning anything\n",
        "  print(f'The corresponding quarter for the date {user_date} is {quarter}')\n",
        "  # return quarter"
      ],
      "metadata": {
        "id": "NTLl-zyPBhzh"
      },
      "execution_count": null,
      "outputs": []
    },
    {
      "cell_type": "code",
      "source": [
        "sample_date = '2020-07-01'"
      ],
      "metadata": {
        "id": "Ppg1onjoBkCq"
      },
      "execution_count": null,
      "outputs": []
    },
    {
      "cell_type": "code",
      "source": [
        "date_quarter = assignQuarter(sample_date)"
      ],
      "metadata": {
        "colab": {
          "base_uri": "https://localhost:8080/"
        },
        "id": "U2dnivd4B996",
        "outputId": "149d3dd3-2d07-4b04-bdda-fd6f00e3cb89"
      },
      "execution_count": null,
      "outputs": [
        {
          "output_type": "stream",
          "name": "stdout",
          "text": [
            "The corresponding quarter for the date 2020-07-01 is 2020-Q3\n"
          ]
        }
      ]
    },
    {
      "cell_type": "code",
      "source": [
        "print(date_quarter)"
      ],
      "metadata": {
        "colab": {
          "base_uri": "https://localhost:8080/"
        },
        "id": "ZHRfY2DsCABy",
        "outputId": "64e40854-82f8-43a9-d7c8-9eb84bbd80ac"
      },
      "execution_count": null,
      "outputs": [
        {
          "output_type": "stream",
          "name": "stdout",
          "text": [
            "None\n"
          ]
        }
      ]
    },
    {
      "cell_type": "code",
      "source": [
        "def check_even_or_odd(num):\n",
        "  '''\n",
        "  This function checks whether a number is odd or even and then returns the corresponding string\n",
        "  '''\n",
        "  print(f'Given number is {num}')\n",
        "\n",
        "  # Step 1 : Check if the number is even. If it is return 'even'\n",
        "  if num%2 == 0:\n",
        "    return 'even'\n",
        "\n",
        "  # Step 2 : Else just return 'odd'\n",
        "\n",
        "  return 'odd'"
      ],
      "metadata": {
        "id": "VRdv7p7ECOGL"
      },
      "execution_count": null,
      "outputs": []
    },
    {
      "cell_type": "code",
      "source": [
        "is_even_odd = check_even_or_odd(10)\n",
        "print(is_even_odd)"
      ],
      "metadata": {
        "colab": {
          "base_uri": "https://localhost:8080/"
        },
        "id": "pnm0IeKwCQsL",
        "outputId": "95c429e1-2feb-4a8d-adb5-af9089029bcb"
      },
      "execution_count": null,
      "outputs": [
        {
          "output_type": "stream",
          "name": "stdout",
          "text": [
            "Given number is 10\n",
            "even\n"
          ]
        }
      ]
    },
    {
      "cell_type": "code",
      "source": [
        "def calculate_averages(my_list):\n",
        "  '''\n",
        "  This function calculates the mean and median of a given list of numbers.\n",
        "  '''\n",
        "  # Step 1 : Calculate the mean\n",
        "  mean = sum(my_list)/len(my_list)\n",
        "\n",
        "  # Step 2 : Calculate the median\n",
        "  sorted_list = sorted(my_list)\n",
        "  list_length = len(sorted_list)\n",
        "\n",
        "  if list_length%2 == 0:\n",
        "    median = (sorted_list[int(list_length/2)-1] + sorted_list[int(list_length/2)])/2\n",
        "  else :\n",
        "    median = sorted_list[int((list_length+1)/2) - 1]\n",
        "\n",
        "  return  mean, median"
      ],
      "metadata": {
        "id": "QurQ1d2WDNWS"
      },
      "execution_count": null,
      "outputs": []
    },
    {
      "cell_type": "code",
      "source": [
        "heights =  [172,175,170,168,170,200]"
      ],
      "metadata": {
        "id": "c7EpwrETDQFK"
      },
      "execution_count": null,
      "outputs": []
    },
    {
      "cell_type": "code",
      "source": [
        "calculate_averages(heights)"
      ],
      "metadata": {
        "colab": {
          "base_uri": "https://localhost:8080/"
        },
        "id": "3AcXTGfDDR_C",
        "outputId": "e5a43186-dae6-472d-8f8f-a8d475dc26c3"
      },
      "execution_count": null,
      "outputs": [
        {
          "output_type": "execute_result",
          "data": {
            "text/plain": [
              "(175.83333333333334, 171.0)"
            ]
          },
          "metadata": {},
          "execution_count": 20
        }
      ]
    },
    {
      "cell_type": "code",
      "source": [
        "mean_height, median_height = calculate_averages(heights)"
      ],
      "metadata": {
        "id": "GYKV5yXoDZCr"
      },
      "execution_count": null,
      "outputs": []
    },
    {
      "cell_type": "code",
      "source": [
        "mean_height"
      ],
      "metadata": {
        "colab": {
          "base_uri": "https://localhost:8080/"
        },
        "id": "8ZAfcx6kDbHS",
        "outputId": "ba87abda-15a9-450a-cb1e-44c9b7173cf8"
      },
      "execution_count": null,
      "outputs": [
        {
          "output_type": "execute_result",
          "data": {
            "text/plain": [
              "175.83333333333334"
            ]
          },
          "metadata": {},
          "execution_count": 22
        }
      ]
    },
    {
      "cell_type": "code",
      "source": [
        "median_height"
      ],
      "metadata": {
        "colab": {
          "base_uri": "https://localhost:8080/"
        },
        "id": "oAC0FjIKDbDZ",
        "outputId": "c597a2b9-2476-465c-cab6-cf6bdb703fdf"
      },
      "execution_count": null,
      "outputs": [
        {
          "output_type": "execute_result",
          "data": {
            "text/plain": [
              "171.0"
            ]
          },
          "metadata": {},
          "execution_count": 23
        }
      ]
    },
    {
      "cell_type": "markdown",
      "source": [
        "## **Lambda Expressions, Map, and Filter**"
      ],
      "metadata": {
        "id": "fVhW8i_A_1f-"
      }
    },
    {
      "cell_type": "markdown",
      "source": [
        "### **map function**\n",
        "\n",
        "The **map** function allows you to \"map\" a function to an iterable object. That is to say you can quickly call the same function to every item in an iterable, such as a list. For example:"
      ],
      "metadata": {
        "id": "iYPVRuVQAGRD"
      }
    },
    {
      "cell_type": "code",
      "source": [
        "def splicer(mystring):\n",
        "    if len(mystring) % 2 == 0:\n",
        "        return 'even'\n",
        "    else:\n",
        "        return mystring[0]"
      ],
      "metadata": {
        "id": "mFRUMl1BAJWH"
      },
      "execution_count": null,
      "outputs": []
    },
    {
      "cell_type": "code",
      "source": [
        "mynames = ['John','Cindy','Sarah','Kelly','Mike']"
      ],
      "metadata": {
        "id": "LRo--DPyASOf"
      },
      "execution_count": null,
      "outputs": []
    },
    {
      "cell_type": "code",
      "source": [
        "list(map(splicer,mynames))"
      ],
      "metadata": {
        "colab": {
          "base_uri": "https://localhost:8080/"
        },
        "id": "DqtiJTyXATbO",
        "outputId": "724042b4-6c13-48b7-a0f2-ae9718be5d1c"
      },
      "execution_count": null,
      "outputs": [
        {
          "output_type": "execute_result",
          "data": {
            "text/plain": [
              "['even', 'C', 'S', 'K', 'even']"
            ]
          },
          "metadata": {},
          "execution_count": 3
        }
      ]
    },
    {
      "cell_type": "markdown",
      "source": [
        "### **filter function**\n",
        "\n",
        "The filter function returns an iterator yielding those items of iterable for which function(item)\n",
        "is true. Meaning you need to filter by a function that returns either True or False. Then passing that into filter (along with your iterable) and you will get back only the results that would return True when passed to the function."
      ],
      "metadata": {
        "id": "SPXTp-esAWRP"
      }
    },
    {
      "cell_type": "code",
      "source": [
        "def check_even(num):\n",
        "    return num % 2 == 0"
      ],
      "metadata": {
        "id": "QwGgS5h7Ai0e"
      },
      "execution_count": null,
      "outputs": []
    },
    {
      "cell_type": "code",
      "source": [
        "nums = [0,1,2,3,4,5,6,7,8,9,10]"
      ],
      "metadata": {
        "id": "gsexQJrGAnt3"
      },
      "execution_count": null,
      "outputs": []
    },
    {
      "cell_type": "code",
      "source": [
        "filter(check_even,nums)"
      ],
      "metadata": {
        "colab": {
          "base_uri": "https://localhost:8080/"
        },
        "id": "LdJAnBmLAqjQ",
        "outputId": "1ac1ec1e-a250-4bac-e6b8-b9943d06ebfa"
      },
      "execution_count": null,
      "outputs": [
        {
          "output_type": "execute_result",
          "data": {
            "text/plain": [
              "<filter at 0x7fec5c272940>"
            ]
          },
          "metadata": {},
          "execution_count": 6
        }
      ]
    },
    {
      "cell_type": "code",
      "source": [
        "list(filter(check_even,nums))"
      ],
      "metadata": {
        "colab": {
          "base_uri": "https://localhost:8080/"
        },
        "id": "FXGg2QkjArke",
        "outputId": "00bdd17e-75eb-4db9-cf8a-470a74a57183"
      },
      "execution_count": null,
      "outputs": [
        {
          "output_type": "execute_result",
          "data": {
            "text/plain": [
              "[0, 2, 4, 6, 8, 10]"
            ]
          },
          "metadata": {},
          "execution_count": 7
        }
      ]
    },
    {
      "cell_type": "markdown",
      "source": [
        "### **lambda expression**\n",
        "\n",
        "One of Pythons most useful (and for beginners, confusing) tools is the lambda expression. lambda expressions allow us to create \"anonymous\" functions. This basically means we can quickly make ad-hoc functions without needing to properly define a function using def.\n",
        "\n",
        "Function objects returned by running lambda expressions work exactly the same as those created and assigned by defs. There is key difference that makes lambda useful in specialized roles:\n",
        "\n",
        "**lambda's body is a single expression, not a block of statements.**\n",
        "\n",
        "* The lambda's body is similar to what we would put in a def body's return statement. We simply type the result as an expression instead of explicitly returning it. Because it is limited to an expression, a lambda is less general that a def. We can only squeeze design, to limit program nesting. lambda is designed for coding simple functions, and def handles the larger tasks."
      ],
      "metadata": {
        "id": "82BPSw7yBJmC"
      }
    },
    {
      "cell_type": "code",
      "source": [
        "def square(num):\n",
        "    return num**2"
      ],
      "metadata": {
        "id": "lIqNV7NPBMdH"
      },
      "execution_count": null,
      "outputs": []
    },
    {
      "cell_type": "code",
      "source": [
        "def square(num): return num**2"
      ],
      "metadata": {
        "id": "ZYe7rzsDBQSg"
      },
      "execution_count": null,
      "outputs": []
    },
    {
      "cell_type": "markdown",
      "source": [
        "This is the form a function that a lambda expression intends to replicate. A lambda expression can then be written as:"
      ],
      "metadata": {
        "id": "e9KXiAfwBuWw"
      }
    },
    {
      "cell_type": "code",
      "source": [
        "lambda num: num ** 2"
      ],
      "metadata": {
        "colab": {
          "base_uri": "https://localhost:8080/"
        },
        "id": "RK4hf2MFBuEI",
        "outputId": "0562693a-32a4-49a6-96f2-a923f5c0d1d7"
      },
      "execution_count": null,
      "outputs": [
        {
          "output_type": "execute_result",
          "data": {
            "text/plain": [
              "<function __main__.<lambda>(num)>"
            ]
          },
          "metadata": {},
          "execution_count": 11
        }
      ]
    },
    {
      "cell_type": "code",
      "source": [
        "# You wouldn't usually assign a name to a lambda expression, this is just for demonstration!\n",
        "square = lambda num: num **2"
      ],
      "metadata": {
        "id": "fLFwovHhB2-_"
      },
      "execution_count": null,
      "outputs": []
    },
    {
      "cell_type": "code",
      "source": [
        "square(13)"
      ],
      "metadata": {
        "colab": {
          "base_uri": "https://localhost:8080/"
        },
        "id": "kRBW8x8cB5r1",
        "outputId": "25434482-0cd6-44e2-9448-cf17c96af50e"
      },
      "execution_count": null,
      "outputs": [
        {
          "output_type": "execute_result",
          "data": {
            "text/plain": [
              "169"
            ]
          },
          "metadata": {},
          "execution_count": 13
        }
      ]
    },
    {
      "cell_type": "markdown",
      "source": [
        "So why would use this? Many function calls need a function passed in, such as map and filter. Often you only need to use the function you are passing in once, so instead of formally defining it, you just use the lambda expression."
      ],
      "metadata": {
        "id": "_mtqeV1DCI4_"
      }
    },
    {
      "cell_type": "code",
      "source": [
        "list(map(lambda num: num ** 2, nums))"
      ],
      "metadata": {
        "colab": {
          "base_uri": "https://localhost:8080/"
        },
        "id": "BTxDtlDzCIpf",
        "outputId": "91840a27-ce34-4b51-bb82-c4726a9b07e1"
      },
      "execution_count": null,
      "outputs": [
        {
          "output_type": "execute_result",
          "data": {
            "text/plain": [
              "[0, 1, 4, 9, 16, 25, 36, 49, 64, 81, 100]"
            ]
          },
          "metadata": {},
          "execution_count": 14
        }
      ]
    },
    {
      "cell_type": "code",
      "source": [
        "list(filter(lambda n: n % 2 == 0,nums))"
      ],
      "metadata": {
        "colab": {
          "base_uri": "https://localhost:8080/"
        },
        "id": "bjCiK8TlCTZH",
        "outputId": "2620509c-8852-4e73-edb1-fcdf952174da"
      },
      "execution_count": null,
      "outputs": [
        {
          "output_type": "execute_result",
          "data": {
            "text/plain": [
              "[0, 2, 4, 6, 8, 10]"
            ]
          },
          "metadata": {},
          "execution_count": 15
        }
      ]
    },
    {
      "cell_type": "code",
      "source": [
        "lambda x,y : x + y"
      ],
      "metadata": {
        "colab": {
          "base_uri": "https://localhost:8080/"
        },
        "id": "JDW6WyYLCie5",
        "outputId": "f087f6f7-50ba-4895-f76a-965f0f2eeea7"
      },
      "execution_count": null,
      "outputs": [
        {
          "output_type": "execute_result",
          "data": {
            "text/plain": [
              "<function __main__.<lambda>(x, y)>"
            ]
          },
          "metadata": {},
          "execution_count": 16
        }
      ]
    },
    {
      "cell_type": "markdown",
      "source": [
        "### Let us find out what are the differences between functions and methods\n",
        "\n",
        "* Function and method both look similar as they perform in an almost similar way, but the key difference is the concept of ‘Class and its Object’. Functions can be called only by its name, as it is defined independently. But methods cannot be called by its name only we need to invoke the class by reference of that class in which it is defined, that is, the method is defined within a class and hence they are dependent on that class.\n",
        "\n",
        "* A method is called by its name but it is associated with an object (dependent). It is implicitly passed to an object on which it is invoked. It may or may not return any data. A method can operate the data (instance variables) that is contained by the corresponding class."
      ],
      "metadata": {
        "id": "tIbcAAcyEqMG"
      }
    },
    {
      "cell_type": "markdown",
      "source": [
        "## **Methods**\n",
        "\n",
        "We've already seen a few example of methods when learning about lists in Python. Methods are essentially functions built into objects.\n",
        "\n",
        "Methods perform specific actions on an object and can also take arguments, just like a function.\n",
        "\n",
        "Methods are of the form:\n",
        "\n",
        "    object.method(arg1,arg2,etc...)"
      ],
      "metadata": {
        "id": "EfWO3xABE1Qi"
      }
    },
    {
      "cell_type": "markdown",
      "source": [
        "## **Scope**\n",
        "\n",
        "Now that we have gone over writing our own functions, it's important to understand how Python deals with the variable names you assign. When you create a variable name in Python the name is stored in a *name-space*. Variable names also have a *scope*, the scope determines the visibility of that variable name to other parts of your code.\n",
        "\n",
        "Let's start with a quick thought experiment; imagine the following code:"
      ],
      "metadata": {
        "id": "lHwxDrpOGVK6"
      }
    },
    {
      "cell_type": "code",
      "source": [
        "x = 25\n",
        "\n",
        "def printer():\n",
        "    x = 50\n",
        "    return x"
      ],
      "metadata": {
        "id": "naaE2jYqDGbA"
      },
      "execution_count": null,
      "outputs": []
    },
    {
      "cell_type": "code",
      "source": [
        "print(x)"
      ],
      "metadata": {
        "colab": {
          "base_uri": "https://localhost:8080/"
        },
        "id": "yC-oArnPDIj_",
        "outputId": "2c8fe629-f47b-4b89-8400-9490debdf414"
      },
      "execution_count": null,
      "outputs": [
        {
          "output_type": "stream",
          "name": "stdout",
          "text": [
            "25\n"
          ]
        }
      ]
    },
    {
      "cell_type": "code",
      "source": [
        "print(printer())"
      ],
      "metadata": {
        "colab": {
          "base_uri": "https://localhost:8080/"
        },
        "id": "m0vGqMgHDIev",
        "outputId": "87cc2240-f4a7-4fd7-dc73-f1f8c4c4f3a1"
      },
      "execution_count": null,
      "outputs": [
        {
          "output_type": "stream",
          "name": "stdout",
          "text": [
            "50\n"
          ]
        }
      ]
    },
    {
      "cell_type": "markdown",
      "source": [
        "This idea of scope in your code is very important to understand in order to properly assign and call variable names.\n",
        "\n",
        "In simple terms, the idea of scope can be described by 3 general rules:\n",
        "\n",
        "1. Name assignments will create or change local names by default.\n",
        "2. Name references search (at most) four scopes, these are:\n",
        "    * local\n",
        "    * enclosing functions\n",
        "    * global\n",
        "    * built-in\n",
        "3. Names declared in global and nonlocal statements map assigned names to enclosing module and function scopes.\n",
        "\n",
        "\n",
        "The statement in #2 above can be defined by the LEGB rule.\n",
        "\n",
        "**LEGB Rule:**\n",
        "\n",
        "L: Local — Names assigned in any way within a function (def or lambda), and not declared global in that function.\n",
        "\n",
        "E: Enclosing function locals — Names in the local scope of any and all enclosing functions (def or lambda), from inner to outer.\n",
        "\n",
        "G: Global (module) — Names assigned at the top-level of a module file, or declared global in a def within the file.\n",
        "\n",
        "B: Built-in (Python) — Names preassigned in the built-in names module : open, range, SyntaxError,..."
      ],
      "metadata": {
        "id": "kJs27WIvDNop"
      }
    },
    {
      "cell_type": "code",
      "source": [
        "# x is local here:\n",
        "f = lambda x:x**2"
      ],
      "metadata": {
        "id": "YYOWabyZDZS4"
      },
      "execution_count": null,
      "outputs": []
    },
    {
      "cell_type": "markdown",
      "source": [
        "**Enclosing function locals**\n",
        "\n",
        "This occurs when we have a function inside a function (nested functions)"
      ],
      "metadata": {
        "id": "eICpvhU7EGL5"
      }
    },
    {
      "cell_type": "code",
      "source": [
        "name = 'This is a global name'\n",
        "\n",
        "def greet():\n",
        "    # Enclosing function\n",
        "    name = 'Sammy'\n",
        "\n",
        "    def hello():\n",
        "        print('Hello '+name)\n",
        "    hello()\n",
        "greet()"
      ],
      "metadata": {
        "colab": {
          "base_uri": "https://localhost:8080/"
        },
        "id": "dOtRoQmgEBRg",
        "outputId": "3ce86156-dd22-4f2c-fe3b-3ddc026e96bf"
      },
      "execution_count": null,
      "outputs": [
        {
          "output_type": "stream",
          "name": "stdout",
          "text": [
            "Hello Sammy\n"
          ]
        }
      ]
    },
    {
      "cell_type": "markdown",
      "source": [
        "Note how Sammy was used, because the hello() function was enclosed inside of the greet function!"
      ],
      "metadata": {
        "id": "auonGcL5EWDw"
      }
    },
    {
      "cell_type": "markdown",
      "source": [
        "**Global**\n",
        "\n",
        "Luckily in Jupyter a quick way to test for global variables is to see if another cell recognizes the variable!"
      ],
      "metadata": {
        "id": "XXO43NEzEZXg"
      }
    },
    {
      "cell_type": "code",
      "source": [
        "print(name)"
      ],
      "metadata": {
        "colab": {
          "base_uri": "https://localhost:8080/"
        },
        "id": "tMkSblQBEBOA",
        "outputId": "6c380c75-19cc-4e0d-80c6-aecc1cd5e1a2"
      },
      "execution_count": null,
      "outputs": [
        {
          "output_type": "stream",
          "name": "stdout",
          "text": [
            "This is a global name\n"
          ]
        }
      ]
    },
    {
      "cell_type": "markdown",
      "source": [
        "**Built-in**\n",
        "\n",
        "These are the built-in function names in Python (don't overwrite these!)"
      ],
      "metadata": {
        "id": "rnBcxji4EncA"
      }
    },
    {
      "cell_type": "code",
      "source": [
        "len"
      ],
      "metadata": {
        "colab": {
          "base_uri": "https://localhost:8080/"
        },
        "id": "8DFVSyQzEqPA",
        "outputId": "520b42d4-d81e-4301-b920-b9d26e461567"
      },
      "execution_count": null,
      "outputs": [
        {
          "output_type": "execute_result",
          "data": {
            "text/plain": [
              "<function len(obj, /)>"
            ]
          },
          "metadata": {},
          "execution_count": 23
        }
      ]
    },
    {
      "cell_type": "markdown",
      "source": [
        "### Local Variables\n",
        "When you declare variables inside a function definition, they are not related in any way to other variables with the same names used outside the function - i.e. variable names are local to the function. This is called the scope of the variable. All variables have the scope of the block they are declared in starting from the point of definition of the name.\n",
        "\n",
        "Example:"
      ],
      "metadata": {
        "id": "cDihpaIOE7Dg"
      }
    },
    {
      "cell_type": "code",
      "source": [
        "x = 50\n",
        "\n",
        "def func(x):\n",
        "    print('x is', x)\n",
        "    x = 2\n",
        "    print('Changed local x to', x)\n",
        "\n",
        "func(x)\n",
        "print('x is still', x)"
      ],
      "metadata": {
        "colab": {
          "base_uri": "https://localhost:8080/"
        },
        "id": "BkLx_g7rE9BA",
        "outputId": "1d926947-e61b-4b33-f767-1d514d2864a6"
      },
      "execution_count": null,
      "outputs": [
        {
          "output_type": "stream",
          "name": "stdout",
          "text": [
            "x is 50\n",
            "Changed local x to 2\n",
            "x is still 50\n"
          ]
        }
      ]
    },
    {
      "cell_type": "markdown",
      "source": [
        "The first time that we print the value of the name **x** with the first line in the function’s body, Python uses the value of the parameter declared in the main block, above the function definition.\n",
        "\n",
        "Next, we assign the value 2 to **x**. The name **x** is local to our function. So, when we change the value of **x** in the function, the **x** defined in the main block remains unaffected.\n",
        "\n",
        "With the last print statement, we display the value of **x** as defined in the main block, thereby confirming that it is actually unaffected by the local assignment within the previously called function.\n",
        "\n",
        "### The <code>global</code> statement\n",
        "If you want to assign a value to a name defined at the top level of the program (i.e. not inside any kind of scope such as functions or classes), then you have to tell Python that the name is not local, but it is global. We do this using the <code>global</code> statement. It is impossible to assign a value to a variable defined outside a function without the global statement.\n",
        "\n",
        "You can use the values of such variables defined outside the function (assuming there is no variable with the same name within the function). However, this is not encouraged and should be avoided since it becomes unclear to the reader of the program as to where that variable’s definition is. Using the <code>global</code> statement makes it amply clear that the variable is defined in an outermost block.\n",
        "\n",
        "Example:"
      ],
      "metadata": {
        "id": "rdYpXu8CFGb4"
      }
    },
    {
      "cell_type": "code",
      "source": [
        "x = 50\n",
        "\n",
        "def func():\n",
        "    global x\n",
        "    print('This function is now using the global x!')\n",
        "    print('Because of global x is: ', x)\n",
        "    x = 2\n",
        "    print('Ran func(), changed global x to', x)\n",
        "\n",
        "print('Before calling func(), x is: ', x)\n",
        "func()\n",
        "print('Value of x (outside of func()) is: ', x)"
      ],
      "metadata": {
        "colab": {
          "base_uri": "https://localhost:8080/"
        },
        "id": "kIcSB9ZQFJV3",
        "outputId": "7b731f1d-e726-4c27-c3cf-e881639829b7"
      },
      "execution_count": null,
      "outputs": [
        {
          "output_type": "stream",
          "name": "stdout",
          "text": [
            "Before calling func(), x is:  50\n",
            "This function is now using the global x!\n",
            "Because of global x is:  50\n",
            "Ran func(), changed global x to 2\n",
            "Value of x (outside of func()) is:  2\n"
          ]
        }
      ]
    },
    {
      "cell_type": "markdown",
      "source": [
        "The <code>global</code> statement is used to declare that **x** is a global variable - hence, when we assign a value to **x** inside the function, that change is reflected when we use the value of **x** in the main block.\n",
        "\n",
        "You can specify more than one global variable using the same global statement e.g. <code>global x, y, z</code>."
      ],
      "metadata": {
        "id": "RTM9KzBtFR6R"
      }
    },
    {
      "cell_type": "markdown",
      "source": [
        "# **Object Oriented Programming**\n",
        "\n",
        "**Object-oriented programming (OOP)** is a programming paradigm that uses objects and their interactions to design applications and computer programs. Python is an object-oriented programming language, and it provides features such as inheritance, encapsulation, and polymorphism to support OOP.\n",
        "\n",
        "A **class** is a collection of objects. A class contains the blueprints or the prototype from which the objects are being created. It is a logical entity that contains some attributes and methods.\n",
        "\n",
        "1. Classes are created by keyword class.\n",
        "\n",
        "2. Attributes are the variables that belong to a class.\n",
        "\n",
        "3. Attributes are always public and can be accessed using the dot (.) operator. Eg.: Myclass.Myattribute\n",
        "\n",
        "The **object** is an entity that has a state and behavior associated with it. It may be any real-world object like a mouse, keyboard, chair, table, pen, etc. Integers, strings, floating-point numbers, even arrays, and dictionaries, are all objects. More specifically, any single integer or any single string is an object. The number 12 is an object, the string “Hello, world” is an object, a list is an object that can hold other objects, and so on.\n",
        "\n",
        "An object consists of :\n",
        "\n",
        "1. State: It is represented by the attributes of an object. It also reflects the properties of an object.\n",
        "\n",
        "2. Behavior: It is represented by the methods of an object. It also reflects the response of an object to other objects.\n",
        "\n",
        "3. Identity: It gives a unique name to an object and enables one object to interact with other objects.\n",
        "\n",
        "\n",
        "In Python, **self** refers to the current instance of a class. It is used to access the attributes and methods of an object from within the class.\n",
        "\n",
        "When a method is called on an object, the object is automatically passed as the first argument to the method. By convention, this argument is named self. For example, in the following class Dog:"
      ],
      "metadata": {
        "id": "j7p7Y0UrNit9"
      }
    },
    {
      "cell_type": "code",
      "source": [
        "class Dog:\n",
        "    def __init__(self, name, age):\n",
        "        self.name = name\n",
        "        self.age = age\n",
        "\n",
        "    def bark(self):\n",
        "        print(\"Woof!\")"
      ],
      "metadata": {
        "id": "6795DqicipWc"
      },
      "execution_count": null,
      "outputs": []
    },
    {
      "cell_type": "markdown",
      "source": [
        "when the bark() method is called on an instance of the class Dog, the instance is passed as the self argument. So"
      ],
      "metadata": {
        "id": "XCuPxysTi4j7"
      }
    },
    {
      "cell_type": "code",
      "source": [
        "dog1 = Dog(\"Fido\", 3)\n",
        "dog1.bark()"
      ],
      "metadata": {
        "colab": {
          "base_uri": "https://localhost:8080/"
        },
        "id": "3w_z7Hp0i5Xz",
        "outputId": "0926b78f-edc0-41d5-f0b5-f8efe9113b26"
      },
      "execution_count": null,
      "outputs": [
        {
          "output_type": "stream",
          "name": "stdout",
          "text": [
            "Woof!\n"
          ]
        }
      ]
    },
    {
      "cell_type": "markdown",
      "source": [
        "is equivalent to"
      ],
      "metadata": {
        "id": "6bbyUY7ai-Ls"
      }
    },
    {
      "cell_type": "code",
      "source": [
        "Dog.bark(dog1)"
      ],
      "metadata": {
        "colab": {
          "base_uri": "https://localhost:8080/"
        },
        "id": "mDZyp9y_i96r",
        "outputId": "62d9e4b9-1f4f-4f49-e603-d61e2069e71f"
      },
      "execution_count": null,
      "outputs": [
        {
          "output_type": "stream",
          "name": "stdout",
          "text": [
            "Woof!\n"
          ]
        }
      ]
    },
    {
      "cell_type": "markdown",
      "source": [
        "self is used to access the object's attributes and methods from within the class. For example, in the __init__ method, self.name = name assigns the value of the argument name to the attribute name of the object. Similarly, in the bark method, print(\"Woof!\") is used to access the method of the object.\n",
        "\n",
        "It's important to note that self is not a keyword in Python but is a convention. You can use any other name instead of self but it is not recommended."
      ],
      "metadata": {
        "id": "a-svzQcSjU4D"
      }
    },
    {
      "cell_type": "markdown",
      "source": [
        "In Python, the __init__ method is a special method that is called when an object is created from a class. It allows the class to initialize the attributes of the object. The __init__ method is defined in the class definition and it is automatically called when the object is created. The __init__ method is also known as the constructor of the class.\n",
        "\n",
        "The __init__ method has a special parameter self, which refers to the current instance of the class. This parameter is used to access the attributes and methods of the object from within the class.\n",
        "\n",
        "Here's an example of a class Dog with an __init__ method:"
      ],
      "metadata": {
        "id": "iCz6A4VojV-8"
      }
    },
    {
      "cell_type": "code",
      "source": [
        "class Dog:\n",
        "    def __init__(self, name, age):\n",
        "        self.name = name\n",
        "        self.age = age\n",
        "\n",
        "    def bark(self):\n",
        "        print(\"Woof!\")\n",
        "\n",
        "dog1 = Dog(\"Fido\", 3)\n",
        "print(dog1.name) # Output: \"Fido\"\n",
        "print(dog1.age) # Output: 3"
      ],
      "metadata": {
        "colab": {
          "base_uri": "https://localhost:8080/"
        },
        "id": "lhS3NAyajYt4",
        "outputId": "c0c975e3-eb2a-473a-ba0b-060d1c7b3d17"
      },
      "execution_count": null,
      "outputs": [
        {
          "output_type": "stream",
          "name": "stdout",
          "text": [
            "Fido\n",
            "3\n"
          ]
        }
      ]
    },
    {
      "cell_type": "markdown",
      "source": [
        "In this example, the __init__ method takes two arguments name and age, and assigns them to the attributes name and age of the object using self.name = name and self.age = age. When an object is created using dog1 = Dog(\"Fido\", 3), the __init__ method is called with self set to dog1, and the attributes name and age of dog1 are initialized to \"Fido\" and 3 respectively.\n",
        "\n",
        "The __init__ method does not have to return any value, it is used for initializing the attributes and any other setup that the object may need when it is created.\n",
        "\n",
        "It is important to note that __init__ is a dunder method (double underscore method) and these special methods are used to define the behavior of the class, such as string representation, comparison, and mathematical operations."
      ],
      "metadata": {
        "id": "9df4SOE_jfUD"
      }
    },
    {
      "cell_type": "markdown",
      "source": [
        "**Creating Class and objects with methods**"
      ],
      "metadata": {
        "id": "A6hznlSJji-T"
      }
    },
    {
      "cell_type": "code",
      "source": [
        "class Dog:\n",
        "\n",
        "\t# class attribute\n",
        "\tattr1 = \"mammal\"\n",
        "\n",
        "\t# Instance attribute\n",
        "\tdef __init__(self, name):\n",
        "\t\tself.name = name\n",
        "\n",
        "\tdef speak(self):\n",
        "\t\tprint(\"My name is {}\".format(self.name))\n",
        "\n",
        "# Driver code\n",
        "# Object instantiation\n",
        "Rodger = Dog(\"Rodger\")\n",
        "Tommy = Dog(\"Tommy\")\n",
        "\n",
        "# Accessing class methods\n",
        "Rodger.speak()\n",
        "Tommy.speak()"
      ],
      "metadata": {
        "colab": {
          "base_uri": "https://localhost:8080/"
        },
        "id": "TW6IktvIjl2L",
        "outputId": "97705d01-eaa3-4150-fc9d-54c0cbc827db"
      },
      "execution_count": null,
      "outputs": [
        {
          "output_type": "stream",
          "name": "stdout",
          "text": [
            "My name is Rodger\n",
            "My name is Tommy\n"
          ]
        }
      ]
    },
    {
      "cell_type": "markdown",
      "source": [
        "###**Inheritance:**\n",
        "\n",
        "**Inheritance** is the capability of one class to derive or inherit the properties from another class. The class that derives properties is called the derived class or child class and the class from which the properties are being derived is called the base class or parent class.\n",
        "\n",
        "The benefits of inheritance are:\n",
        "\n",
        "1. It represents real-world relationships well.\n",
        "\n",
        "2. It provides the reusability of a code. We don’t have to write the same code again and again. Also, it allows us to add more features to a class without modifying it.\n",
        "\n",
        "3. It is transitive in nature, which means that if class B inherits from another class A, then all the subclasses of B would automatically inherit from class A.\n",
        "\n",
        "**Types of Inheritance –**\n",
        "\n",
        "1. Single Inheritance:\n",
        "Single-level inheritance enables a derived class to inherit characteristics from a single-parent class.\n",
        "\n",
        "2. Multilevel Inheritance:\n",
        "Multi-level inheritance enables a derived class to inherit properties from an immediate parent class which in turn inherits properties from his parent class.\n",
        "\n",
        "3. Hierarchical Inheritance:\n",
        "Hierarchical level inheritance enables more than one derived class to inherit properties from a parent class.\n",
        "\n",
        "4. Multiple Inheritance:\n",
        "Multiple level inheritance enables one derived class to inherit properties from more than one base class."
      ],
      "metadata": {
        "id": "rKtwyLCBjrM9"
      }
    },
    {
      "cell_type": "code",
      "source": [
        "# Python code to demonstrate how parent constructors are called.\n",
        "# parent class\n",
        "class Person(object):\n",
        "\n",
        "\t# __init__ is known as the constructor\n",
        "\tdef __init__(self, name, idnumber):\n",
        "\t\tself.name = name\n",
        "\t\tself.idnumber = idnumber\n",
        "\n",
        "\tdef display(self):\n",
        "\t\tprint(self.name)\n",
        "\t\tprint(self.idnumber)\n",
        "\n",
        "\tdef details(self):\n",
        "\t\tprint(\"My name is {}\".format(self.name))\n",
        "\t\tprint(\"IdNumber: {}\".format(self.idnumber))\n",
        "\n",
        "# child class\n",
        "class Employee(Person):\n",
        "\tdef __init__(self, name, idnumber, salary, post):\n",
        "\t\tself.salary = salary\n",
        "\t\tself.post = post\n",
        "\n",
        "\t\t# invoking the __init__ of the parent class\n",
        "\t\tPerson.__init__(self, name, idnumber)\n",
        "\n",
        "\tdef details(self):\n",
        "\t\tprint(\"My name is {}\".format(self.name))\n",
        "\t\tprint(\"IdNumber: {}\".format(self.idnumber))\n",
        "\t\tprint(\"Post: {}\".format(self.post))\n",
        "\n",
        "\n",
        "# creation of an object variable or an instance\n",
        "a = Employee('Vicky', 886012, 200000, \"Intern\")\n",
        "\n",
        "# calling a function of the class Person using\n",
        "# its instance\n",
        "a.display()\n",
        "a.details()"
      ],
      "metadata": {
        "colab": {
          "base_uri": "https://localhost:8080/"
        },
        "id": "VCBWvXn2jq4k",
        "outputId": "c163b341-3da6-4e93-d252-7017262b2faa"
      },
      "execution_count": null,
      "outputs": [
        {
          "output_type": "stream",
          "name": "stdout",
          "text": [
            "Vicky\n",
            "886012\n",
            "My name is Vicky\n",
            "IdNumber: 886012\n",
            "Post: Intern\n"
          ]
        }
      ]
    },
    {
      "cell_type": "markdown",
      "source": [
        "we have created two classes i.e. Person (parent class) and Employee (Child Class). The Employee class inherits from the Person class. We can use the methods of the person class through employee class as seen in the display function in the above code. A child class can also modify the behavior of the parent class as seen through the details() method."
      ],
      "metadata": {
        "id": "yiY06U_5jzPM"
      }
    },
    {
      "cell_type": "markdown",
      "source": [
        "###**Polymorphism:**\n",
        "\n",
        "**Polymorphism** simply means having many forms. For example, we need to determine if the given species of birds fly or not, using polymorphism we can do this using a single function.\n",
        "\n",
        "In object-oriented programming, polymorphism refers to the ability of objects of different classes to be used interchangeably. This means that objects of different classes can be treated as objects of a common base class, as long as they implement a common interface.\n",
        "\n",
        "There are two types of polymorphism in Python:\n",
        "\n",
        "1. Duck Typing: It is a concept in Python which says \"If it walks like a duck, quacks like a duck, it must be a duck\". In other words, if an object has the same methods and attributes as another object, it is considered to be the same type of object, regardless of its class.\n",
        "\n",
        "2. Polymorphism through inheritance: Polymorphism can be achieved through inheritance by using a parent class as a common interface for different child classes. A child class inherits the methods and attributes of the parent class, and can also have its own methods and attributes. An object of a child class can be used interchangeably with an object of the parent class, as long as the object implements the same methods and attributes as the parent class."
      ],
      "metadata": {
        "id": "ccGfp-EWj0Mk"
      }
    },
    {
      "cell_type": "code",
      "source": [
        "class Bird:\n",
        "\n",
        "\tdef intro(self):\n",
        "\t\tprint(\"There are many types of birds.\")\n",
        "\n",
        "\tdef flight(self):\n",
        "\t\tprint(\"Most of the birds can fly but some cannot.\")\n",
        "\n",
        "class sparrow(Bird):\n",
        "\n",
        "\tdef flight(self):\n",
        "\t\tprint(\"Sparrows can fly.\")\n",
        "\n",
        "class ostrich(Bird):\n",
        "\n",
        "\tdef flight(self):\n",
        "\t\tprint(\"Ostriches cannot fly.\")\n",
        "\n",
        "obj_bird = Bird()\n",
        "obj_spr = sparrow()\n",
        "obj_ost = ostrich()\n",
        "\n",
        "obj_bird.intro()\n",
        "obj_bird.flight()\n",
        "\n",
        "obj_spr.intro()\n",
        "obj_spr.flight()\n",
        "\n",
        "obj_ost.intro()\n",
        "obj_ost.flight()"
      ],
      "metadata": {
        "colab": {
          "base_uri": "https://localhost:8080/"
        },
        "id": "fnm_1PYEj7Nf",
        "outputId": "6580d784-5e08-472d-ba5d-25c31f343f91"
      },
      "execution_count": null,
      "outputs": [
        {
          "output_type": "stream",
          "name": "stdout",
          "text": [
            "There are many types of birds.\n",
            "Most of the birds can fly but some cannot.\n",
            "There are many types of birds.\n",
            "Sparrows can fly.\n",
            "There are many types of birds.\n",
            "Ostriches cannot fly.\n"
          ]
        }
      ]
    },
    {
      "cell_type": "markdown",
      "source": [
        "In Python, polymorphism is achieved through the use of interfaces or abstract base classes, which define a set of methods that a class must implement to be considered a certain type of object.\n",
        "\n",
        "In summary, polymorphism allows objects of different classes to be used interchangeably, by providing a common interface for the objects. This can be achieved through inheritance, duck typing, or interfaces. It allows for more flexible and extensible code by allowing objects of different classes to be used in the same way."
      ],
      "metadata": {
        "id": "mBZgq0cgkCAT"
      }
    },
    {
      "cell_type": "markdown",
      "source": [
        "###**Encapsulation:**\n",
        "\n",
        "**Encapsulation** is one of the fundamental concepts in object-oriented programming (OOP). It describes the idea of wrapping data and the methods that work on data within one unit. This puts restrictions on accessing variables and methods directly and can prevent the accidental modification of data. To prevent accidental change, an object’s variable can only be changed by an object’s method. Those types of variables are known as private variables.\n",
        "\n",
        "A class is an example of encapsulation as it encapsulates all the data that is member functions, variables, etc.\n",
        "\n",
        "In object-oriented programming, encapsulation refers to the practice of keeping the internal state of an object hidden from the outside world, and using methods to access and manipulate the state. Encapsulation is used to provide a level of abstraction and information hiding, which can help to protect the integrity of the data and reduce the likelihood of bugs in the program.\n",
        "\n",
        "In Python, encapsulation is achieved through the use of private and protected variables and methods. Variables and methods that are intended to be private are typically denoted by a single leading underscore (e.g. _variable or _method()), while those intended to be protected are denoted by a double leading underscore (e.g. __variable or __method())."
      ],
      "metadata": {
        "id": "GW9AbrX1kDbj"
      }
    },
    {
      "cell_type": "code",
      "source": [
        "class BankAccount:\n",
        "    def __init__(self, balance):\n",
        "        self.__balance = balance\n",
        "\n",
        "    def deposit(self, amount):\n",
        "        self.__balance += amount\n",
        "\n",
        "    def withdraw(self, amount):\n",
        "        if self.__balance >= amount:\n",
        "            self.__balance -= amount\n",
        "            return True\n",
        "        else:\n",
        "            return False\n",
        "\n",
        "    def get_balance(self):\n",
        "        return self.__balance\n",
        "\n",
        "account = BankAccount(1000)\n",
        "print(account.get_balance()) # Output: 1000\n",
        "account.deposit(500)\n",
        "print(account.get_balance()) # Output: 1500\n",
        "account.withdraw(700)\n",
        "print(account.get_balance()) # Output: 800\n"
      ],
      "metadata": {
        "colab": {
          "base_uri": "https://localhost:8080/"
        },
        "id": "dD9dHuuokLQs",
        "outputId": "7a508e4a-dbf7-4474-8fc4-b2f7bd4f403f"
      },
      "execution_count": null,
      "outputs": [
        {
          "output_type": "stream",
          "name": "stdout",
          "text": [
            "1000\n",
            "1500\n",
            "800\n"
          ]
        }
      ]
    },
    {
      "cell_type": "markdown",
      "source": [
        "In this example, the __balance attribute is intended to be private, and it is only accessible through the deposit(), withdraw() and get_balance() methods. This means that the user of the class can't directly access or modify the __balance attribute, and can only use the methods provided to interact with it.\n",
        "\n",
        "By encapsulating the internal state of the object, this class provides a level of abstraction and information hiding, making it more robust and less prone to errors. The user of the class doesn't need to know the internal details of how the balance is stored and can only use the provided methods to interact with it.\n",
        "\n",
        "It's important to note that in Python, encapsulation is not enforced by the language but is a convention. You could still access the private variable by using _ClassName__variable notation but it is not recommended to do so.\n",
        "\n",
        "Encapsulation provides flexibility, maintainability, and extensibility to our code by making it more modular and easier to understand. It also helps in making the code more robust by hiding the internal details of the class and only exposing the necessary information to the user."
      ],
      "metadata": {
        "id": "G19wVkzskQCd"
      }
    },
    {
      "cell_type": "markdown",
      "source": [
        "###**Data Abstraction:**\n",
        "\n",
        "It hides the unnecessary code details from the user. Also,  when we do not want to give out sensitive parts of our code implementation and this is where data abstraction came.\n",
        "\n",
        "Data Abstraction in Python can be achieved through creating abstract classes.\n",
        "\n",
        "Data abstraction is a technique in object-oriented programming that allows the programmer to hide the internal details of a class, and only expose the necessary information to the user. It is closely related to encapsulation, and the two concepts are often used together.\n",
        "\n",
        "Data abstraction is used to create a simplified, high-level view of an object, which allows the user to interact with the object in a meaningful way, without needing to know the internal details of how the object works. This can make the code more modular and easier to understand, and also make the code more robust and less prone to errors.\n",
        "\n",
        "In Python, data abstraction can be achieved through the use of abstract classes and interfaces. An abstract class is a class that cannot be instantiated, but can be subclassed. An abstract class typically defines a set of methods that must be implemented by its subclasses, which allows the subclasses to be used interchangeably, as long as they implement the same methods."
      ],
      "metadata": {
        "id": "vAIAbQ6BkRO8"
      }
    },
    {
      "cell_type": "code",
      "source": [
        "from abc import ABC, abstractmethod\n",
        "\n",
        "class Shape(ABC):\n",
        "    @abstractmethod\n",
        "    def area(self):\n",
        "        pass\n",
        "\n",
        "class Rectangle(Shape):\n",
        "    def __init__(self, width, height):\n",
        "        self.width = width\n",
        "        self.height = height\n",
        "\n",
        "    def area(self):\n",
        "        return self.width * self.height\n",
        "\n",
        "class Circle(Shape):\n",
        "    def __init__(self, radius):\n",
        "        self.radius = radius\n",
        "\n",
        "    def area(self):\n",
        "        return 3.14 * (self.radius**2)\n",
        "\n",
        "shapes = [Rectangle(10, 5), Circle(3)]\n",
        "for shape in shapes:\n",
        "    print(shape.area())"
      ],
      "metadata": {
        "colab": {
          "base_uri": "https://localhost:8080/"
        },
        "id": "-m7NvKZ8kVjk",
        "outputId": "b6fc8ac2-ee53-42bd-8a42-545e26417300"
      },
      "execution_count": null,
      "outputs": [
        {
          "output_type": "stream",
          "name": "stdout",
          "text": [
            "50\n",
            "28.26\n"
          ]
        }
      ]
    },
    {
      "cell_type": "markdown",
      "source": [
        "In this example, the Shape class is an abstract class that defines a single method area() which is intended to be overridden by subclasses. The Rectangle and Circle classes are concrete classes that inherit from the Shape class and implement the area() method. As a result, the area() method can be called on objects of both classes, and the correct implementation will be called based on the actual type of the object.\n",
        "\n",
        "In summary, data abstraction is a technique that allows the user to interact with an object in a meaningful way, without needing to know the internal details of how the object works. It can be achieved through the use of abstract classes, interfaces and encapsulation. It makes the code more modular, more extensible and more robust by hiding the internal details of the class and only exposing the necessary information to the user."
      ],
      "metadata": {
        "id": "X-KNFIKskfTs"
      }
    },
    {
      "cell_type": "markdown",
      "source": [
        "### **Why use OOPs?**\n",
        "\n",
        "Programming with OOP lets you package together data states and functionality to change those data states while keeping the specifics secret (Consider the analogy of a car, you can only see the steering of the car while driving, the circuitry behind it is hidden from you). As a result, OOP design produces flexible, modular, and abstract code. Because of this, it is very helpful for developing larger programs. Using classes and objects, you may include OOP into your code. The objects you construct will have the states and capabilities of the class to which they belong."
      ],
      "metadata": {
        "id": "d5j_3lPqkxHs"
      }
    },
    {
      "cell_type": "markdown",
      "source": [
        "###**What is method overloading?**\n",
        "\n",
        "There is a concept where two or more methods can have the same name. But they should have different parameters, different numbers of parameters, different types, or both. These methods are known as overloaded methods and this feature is called method overloading."
      ],
      "metadata": {
        "id": "zD4RZeC7kzfE"
      }
    },
    {
      "cell_type": "markdown",
      "source": [
        "### **What is method overriding?**\n",
        "\n",
        "Method overriding is a concept of object-oriented programming.\n",
        "\n",
        "It is a language feature that allows a subclass or child class to provide a specific implementation of a method which is already provided by one of its superclasses or parent classes."
      ],
      "metadata": {
        "id": "jkBJcsQKk4L0"
      }
    },
    {
      "cell_type": "markdown",
      "source": [
        "### **What are the main features of OOPs?**\n",
        "\n",
        "The main features of OOPs are given as follows:\n",
        "\n",
        "1. In OOP, you combine the code into one unit so you can specify the parameters of each piece of data. This process of wrapping up data into a single unit is called encapsulation.\n",
        "\n",
        "2. By using classes, you can generalise your object types and make your application easier to use. This is termed as an abstraction.\n",
        "\n",
        "3. The ability for a class to inherit characteristics and behaviours from another class allows for more code reuse.\n",
        "\n",
        "4. Polymorphism allows for the creation of several objects from a single, adaptable class of code."
      ],
      "metadata": {
        "id": "Dl7mVPEZlFnc"
      }
    },
    {
      "cell_type": "markdown",
      "source": [
        "### **Is it possible to call the base class method without creating an instance?**\n",
        "\n",
        "Yes, we can possibly call the base class method without creating an instance in the following 3 cases:\n",
        "\n",
        "1. If the method is static\n",
        "\n",
        "2. Calling the inherited method inside a derived class\n",
        "\n",
        "3. Calling the method using the base keyword from the sub-classes\n",
        "\n",
        "The most popular case is that of the static methods."
      ],
      "metadata": {
        "id": "YgPTEa3blThd"
      }
    },
    {
      "cell_type": "markdown",
      "source": [
        "### **What are the limitations of OOPs?**\n",
        "\n",
        "Following are some of the common limitations of OOPs:\n",
        "\n",
        "1. Size exceeds that of other programs.\n",
        "\n",
        "2. It took a lot of work to make, and it runs more slowly than other programs.\n",
        "\n",
        "3. It is inappropriate for certain types of issues.\n",
        "\n",
        "4. It takes some getting used to."
      ],
      "metadata": {
        "id": "VjcuLMnslV4c"
      }
    },
    {
      "cell_type": "markdown",
      "source": [
        "###**What are constructors?**\n",
        "\n",
        "The constructor has the same name as the class.\n",
        "A constructor is also a special kind of method. It is used to initialize objects of the class.\n",
        "\n",
        "Types of constructors depend upon languages\n",
        "\n",
        "1. Private Constructor\n",
        "\n",
        "2. Default Constructor\n",
        "\n",
        "3. Copy Constructor\n",
        "\n",
        "4. Static Constructor\n",
        "\n",
        "5. Parameterized Constructor\n"
      ],
      "metadata": {
        "id": "s6Qzw_oJlglF"
      }
    },
    {
      "cell_type": "markdown",
      "source": [
        "###**What is a destructor?**\n",
        "\n",
        "A destructor is a method that is called automatically when an object is destroyed.\n",
        "\n",
        "The destructor also recovers the heap space which was allocated to the destroyed object. It also start closing the files and database connections of the object, etc."
      ],
      "metadata": {
        "id": "0HMR9S5wlrwt"
      }
    },
    {
      "cell_type": "markdown",
      "source": [
        "###**Differentiate between an abstract class and an interface?**\n",
        "\n",
        "An interface can have only abstract methods, but an Abstract class can have abstract and non-abstract methods.\n",
        "\n",
        "The interface should be used if just the requirement specification is known and nothing about implementation. If the implementation is known, but partially, then an abstract class should be used. If the implementation is known completely, then a concrete Class should be used."
      ],
      "metadata": {
        "id": "GlIfDeGgl04F"
      }
    },
    {
      "cell_type": "markdown",
      "source": [
        "####When I define a Customer class using the class keyword, I haven't actually created a customer. Instead, what I've created is a sort of instruction manual for constructing \"customer\" objects."
      ],
      "metadata": {
        "id": "I80HSZ89wA4g"
      }
    },
    {
      "cell_type": "code",
      "source": [
        "class Customer(object):\n",
        "    \"\"\"A customer of ABC Bank with a checking account. Customers have the\n",
        "    following properties:\n",
        "\n",
        "    Attributes:\n",
        "        name: A string representing the customer's name.\n",
        "        balance: A float tracking the current balance of the customer's account.\n",
        "    \"\"\"\n",
        "\n",
        "    def __init__(self, name, balance=0.0):\n",
        "        \"\"\"Return a Customer object whose name is *name* and starting\n",
        "        balance is *balance*.\"\"\"\n",
        "        self.name = name\n",
        "        self.balance = balance\n",
        "\n",
        "    def withdraw(self, amount):\n",
        "        \"\"\"Return the balance remaining after withdrawing *amount*\n",
        "        dollars.\"\"\"\n",
        "        if amount > self.balance:\n",
        "            raise RuntimeError('Amount greater than available balance.')\n",
        "        self.balance -= amount\n",
        "        return self.balance\n",
        "\n",
        "    def deposit(self, amount):\n",
        "        \"\"\"Return the balance remaining after depositing *amount*\n",
        "        dollars.\"\"\"\n",
        "        self.balance += amount\n",
        "        return self.balance"
      ],
      "metadata": {
        "id": "FErlGhhHwAmp"
      },
      "execution_count": null,
      "outputs": []
    },
    {
      "cell_type": "markdown",
      "source": [
        "The class Customer(object) line does not create a new customer. That is, just because we've defined a Customer doesn't mean we've created one; we've merely outlined the blueprint to create a Customer object. To do so, we call the class's __init__ method with the proper number of arguments (minus self, which we'll get to in a moment).\n",
        "\n",
        "So, to use the \"blueprint\" that we created by defining the class Customer (which is used to create Customer objects), we call the class name almost as if it were a function: <code>jeff = Customer('Jeff Knupp', 1000.0)</code>. This line simply says \"use the Customer blueprint to create me a new object, which I'll refer to as jeff.\"\n",
        "\n",
        "\n",
        "The jeff object, known as an instance, is the realized version of the Customer class. Before we called Customer(), no Customer object existed. We can, of course, create as many Customer objects as we'd like. There is still, however, only one Customer class, regardless of how many instances of the class we create.\n"
      ],
      "metadata": {
        "id": "jWOI5Zy83A9Z"
      }
    },
    {
      "cell_type": "code",
      "source": [
        "jeff = Customer('Jeff Knupp', 1000.0)"
      ],
      "metadata": {
        "id": "IDfFuO2N38Xg"
      },
      "execution_count": null,
      "outputs": []
    },
    {
      "cell_type": "markdown",
      "source": [
        "###**self?**\n",
        "\n",
        "So what's with that self parameter to all of the Customer methods? What is it? Why, it's the instance, of course! Put another way, a method like withdraw defines the instructions for withdrawing money from some abstract customer's account. Calling jeff.withdraw(100.0) puts those instructions to use on the jeff instance.\n",
        "\n",
        "So when we say def withdraw(self, amount):, we're saying, \"here's how you withdraw money from a Customer object (which we'll call self) and a dollar figure (which we'll call amount). self is the instance of the Customer that withdraw is being called on. That's not me making analogies, either. jeff.withdraw(100.0) is just shorthand for Customer.withdraw(jeff, 100.0), which is perfectly valid (if not often seen) code.\n",
        "\n",
        "###__init__\n",
        "\n",
        "self may make sense for other methods, but what about __init__? When we call __init__, we're in the process of creating an object, so how can there already be a self? Python allows us to extend the self pattern to when objects are constructed as well, even though it doesn't exactly fit. Just imagine that jeff = Customer('Jeff Knupp', 1000.0) is the same as calling jeff = Customer(jeff, 'Jeff Knupp', 1000.0); the jeff that's passed in is also made the result.\n",
        "\n",
        "This is why when we call __init__, we initialize objects by saying things like self.name = name. Remember, since self is the instance, this is equivalent to saying jeff.name = name, which is the same as jeff.name = 'Jeff Knupp. Similarly, self.balance = balance is the same as jeff.balance = 1000.0. After these two lines, we consider the Customer object \"initialized\" and ready for use.\n",
        "\n",
        "Be careful what you __init__\n",
        "\n",
        "After __init__ has finished, the caller can rightly assume that the object is ready to use. That is, after jeff = Customer('Jeff Knupp', 1000.0), we can start making deposit and withdraw calls on jeff; jeff is a fully-initialized object.\n",
        "\n",
        "Imagine for a moment we had defined the Customer class slightly differently:"
      ],
      "metadata": {
        "id": "UcwINlfz53kT"
      }
    },
    {
      "cell_type": "code",
      "source": [
        "class Customer(object):\n",
        "    \"\"\"A customer of ABC Bank with a checking account. Customers have the\n",
        "    following properties:\n",
        "\n",
        "    Attributes:\n",
        "        name: A string representing the customer's name.\n",
        "        balance: A float tracking the current balance of the customer's account.\n",
        "    \"\"\"\n",
        "\n",
        "    def __init__(self, name):\n",
        "        \"\"\"Return a Customer object whose name is *name*.\"\"\"\n",
        "        self.name = name\n",
        "\n",
        "    def set_balance(self, balance=0.0):\n",
        "        \"\"\"Set the customer's starting balance.\"\"\"\n",
        "        self.balance = balance\n",
        "\n",
        "    def withdraw(self, amount):\n",
        "        \"\"\"Return the balance remaining after withdrawing *amount*\n",
        "        dollars.\"\"\"\n",
        "        if amount > self.balance:\n",
        "            raise RuntimeError('Amount greater than available balance.')\n",
        "        self.balance -= amount\n",
        "        return self.balance\n",
        "\n",
        "    def deposit(self, amount):\n",
        "        \"\"\"Return the balance remaining after depositing *amount*\n",
        "        dollars.\"\"\"\n",
        "        self.balance += amount\n",
        "        return self.balance"
      ],
      "metadata": {
        "id": "H0cebO0d6EqQ"
      },
      "execution_count": null,
      "outputs": []
    },
    {
      "cell_type": "markdown",
      "source": [
        "This may look like a reasonable alternative; we simply need to call set_balance before we begin using the instance. There's no way, however, to communicate this to the caller. Even if we document it extensively, we can't force the caller to call jeff.set_balance(1000.0) before calling jeff.withdraw(100.0). Since the jeff instance doesn't even have a balance attribute until jeff.set_balance is called, this means that the object hasn't been \"fully\" initialized.\n",
        "\n",
        "The rule of thumb is, don't introduce a new attribute outside of the __init__ method, otherwise you've given the caller an object that isn't fully initialized. There are exceptions, of course, but it's a good principle to keep in mind. This is part of a larger concept of object consistency: there shouldn't be any series of method calls that can result in the object entering a state that doesn't make sense.\n",
        "\n",
        "Invariants (like, \"balance should always be a non-negative number\") should hold both when a method is entered and when it is exited. It should be impossible for an object to get into an invalid state just by calling its methods. It goes without saying, then, that an object should start in a valid state as well, which is why it's important to initialize everything in the __init__ method."
      ],
      "metadata": {
        "id": "4m7umpZR6LPA"
      }
    },
    {
      "cell_type": "markdown",
      "source": [
        "###**Instance Attributes and Methods**\n",
        "\n",
        "An function defined in a class is called a \"method\". Methods have access to all the data contained on the instance of the object; they can access and modify anything previously set on self. Because they use self, they require an instance of the class in order to be used. For this reason, they're often referred to as \"instance methods\".\n",
        "\n",
        "If there are \"instance methods\", then surely there are other types of methods as well, right? Yes, there are, but these methods are a bit more esoteric. We'll cover them briefly here, but feel free to research these topics in more depth.\n",
        "\n",
        "###**Static Methods**\n",
        "Class attributes are attributes that are set at the class-level, as opposed to the instance-level. Normal attributes are introduced in the __init__ method, but some attributes of a class hold for all instances in all cases. For example, consider the following definition of a Car object:"
      ],
      "metadata": {
        "id": "rOCqKS566QSI"
      }
    },
    {
      "cell_type": "code",
      "source": [
        "class Car(object):\n",
        "\n",
        "    wheels = 4\n",
        "\n",
        "    def __init__(self, make, model):\n",
        "        self.make = make\n",
        "        self.model = model\n",
        "\n",
        "mustang = Car('Ford', 'Mustang')\n",
        "print(mustang.wheels)\n",
        "# 4\n",
        "print(Car.wheels)\n",
        "# 4"
      ],
      "metadata": {
        "colab": {
          "base_uri": "https://localhost:8080/"
        },
        "id": "qq3A836X6K2w",
        "outputId": "630d94df-7aea-43c0-e566-bae244ca3af1"
      },
      "execution_count": null,
      "outputs": [
        {
          "output_type": "stream",
          "name": "stdout",
          "text": [
            "4\n",
            "4\n"
          ]
        }
      ]
    },
    {
      "cell_type": "markdown",
      "source": [
        "A Car always has four wheels, regardless of the make or model. Instance methods can access these attributes in the same way they access regular attributes: through self (i.e. self.wheels).\n",
        "\n",
        "There is a class of methods, though, called static methods, that don't have access to self. Just like class attributes, they are methods that work without requiring an instance to be present. Since instances are always referenced through self, static methods have no self parameter."
      ],
      "metadata": {
        "id": "SwlTnJRN6ifg"
      }
    },
    {
      "cell_type": "code",
      "source": [
        "# The following would be a valid static method on the Car class:\n",
        "\n",
        "class Car(object):\n",
        "    ...\n",
        "    def make_car_sound():\n",
        "        print('VRooooommmm!')\n"
      ],
      "metadata": {
        "id": "6J8XJxgn64Fc"
      },
      "execution_count": null,
      "outputs": []
    },
    {
      "cell_type": "markdown",
      "source": [
        "No matter what kind of car we have, it always makes the same sound (or so I tell my ten month old daughter). To make it clear that this method should not receive the instance as the first parameter (i.e. self on \"normal\" methods), the @staticmethod decorator is used, turning our definition into:"
      ],
      "metadata": {
        "id": "dmqVdLBk7Dy8"
      }
    },
    {
      "cell_type": "code",
      "source": [
        "class Car(object):\n",
        "    ...\n",
        "    @staticmethod\n",
        "    def make_car_sound():\n",
        "        print('VRooooommmm!')"
      ],
      "metadata": {
        "id": "UHanqP1m7EqQ"
      },
      "execution_count": null,
      "outputs": []
    },
    {
      "cell_type": "markdown",
      "source": [
        "###**Class Methods**\n",
        "\n",
        "A variant of the static method is the class method. Instead of receiving the instance as the first parameter, it is passed the class. It, too, is defined using a decorator:"
      ],
      "metadata": {
        "id": "WJCRnazV7M8A"
      }
    },
    {
      "cell_type": "code",
      "source": [
        "class Vehicle(object):\n",
        "    ...\n",
        "    @classmethod\n",
        "    def is_motorcycle(cls):\n",
        "        return cls.wheels == 2"
      ],
      "metadata": {
        "id": "i2bM1eyV7Qio"
      },
      "execution_count": null,
      "outputs": []
    },
    {
      "cell_type": "markdown",
      "source": [
        "###**Inheritance**\n",
        "\n",
        "While Object-oriented Programming is useful as a modeling tool, it truly gains power when the concept of inheritance is introduced. Inherticance is the process by which a \"child\" class derives the data and behavior of a \"parent\" class. An example will definitely help us here.\n",
        "\n",
        "Imagine we run a car dealership. We sell all types of vehicles, from motorcycles to trucks. We set ourselves apart from the competition by our prices. Specifically, how we determine the price of a vehicle on our lot:  RS 5,000 x number of wheels a vehicle has. We love buying back our vehicles as well. We offer a flat rate - 10% of the miles driven on the vehicle. For trucks, that rate is RS 10,000. For cars, RS 8,000. For motorcycles, RS 4,000.\n",
        "\n",
        "If we wanted to create a sales system for our dealership using Object-oriented techniques, how would we do so? What would the objects be? We might have a Sale class, a Customer class, an Inventory class, and so forth, but we'd almost certainly have a Car, Truck, and Motorcycle class.\n",
        "\n",
        "What would these classes look like? Using what we've learned, here's a possible implementation of the Car class:"
      ],
      "metadata": {
        "id": "28GWgeOu7Ux5"
      }
    },
    {
      "cell_type": "code",
      "source": [
        "class Car(object):\n",
        "    \"\"\"A car for sale by Jeffco Car Dealership.\n",
        "\n",
        "    Attributes:\n",
        "        wheels: An integer representing the number of wheels the car has.\n",
        "        miles: The integral number of miles driven on the car.\n",
        "        make: The make of the car as a string.\n",
        "        model: The model of the car as a string.\n",
        "        year: The integral year the car was built.\n",
        "        sold_on: The date the vehicle was sold.\n",
        "    \"\"\"\n",
        "\n",
        "    def __init__(self, wheels, miles, make, model, year, sold_on):\n",
        "        \"\"\"Return a new Car object.\"\"\"\n",
        "        self.wheels = wheels\n",
        "        self.miles = miles\n",
        "        self.make = make\n",
        "        self.model = model\n",
        "        self.year = year\n",
        "        self.sold_on = sold_on\n",
        "\n",
        "    def sale_price(self):\n",
        "        \"\"\"Return the sale price for this car as a float amount.\"\"\"\n",
        "        if self.sold_on is not None:\n",
        "            return 0.0  # Already sold\n",
        "        return 5000.0 * self.wheels\n",
        "\n",
        "    def purchase_price(self):\n",
        "        \"\"\"Return the price for which we would pay to purchase the car.\"\"\"\n",
        "        if self.sold_on is None:\n",
        "            return 0.0  # Not yet sold\n",
        "        return 8000 - (.10 * self.miles)\n"
      ],
      "metadata": {
        "id": "MaoOgVr475yw"
      },
      "execution_count": null,
      "outputs": []
    },
    {
      "cell_type": "markdown",
      "source": [
        "OK, that looks pretty reasonable. Of course, we would likely have a number of other methods on the class, but I've shown two of particular interest to us: sale_price and purchase_price. We'll see why these are important in a bit.\n",
        "\n",
        "Now that we've got the Car class, perhaps we should crate a Truck class? Let's follow the same pattern we did for car:"
      ],
      "metadata": {
        "id": "4y3o8wgz7-oA"
      }
    },
    {
      "cell_type": "code",
      "source": [
        "class Truck(object):\n",
        "    \"\"\"A truck for sale by Jeffco Car Dealership.\n",
        "\n",
        "    Attributes:\n",
        "        wheels: An integer representing the number of wheels the truck has.\n",
        "        miles: The integral number of miles driven on the truck.\n",
        "        make: The make of the truck as a string.\n",
        "        model: The model of the truck as a string.\n",
        "        year: The integral year the truck was built.\n",
        "        sold_on: The date the vehicle was sold.\n",
        "    \"\"\"\n",
        "\n",
        "    def __init__(self, wheels, miles, make, model, year, sold_on):\n",
        "        \"\"\"Return a new Truck object.\"\"\"\n",
        "        self.wheels = wheels\n",
        "        self.miles = miles\n",
        "        self.make = make\n",
        "        self.model = model\n",
        "        self.year = year\n",
        "        self.sold_on = sold_on\n",
        "\n",
        "    def sale_price(self):\n",
        "        \"\"\"Return the sale price for this truck as a float amount.\"\"\"\n",
        "        if self.sold_on is not None:\n",
        "            return 0.0  # Already sold\n",
        "        return 5000.0 * self.wheels\n",
        "\n",
        "    def purchase_price(self):\n",
        "        \"\"\"Return the price for which we would pay to purchase the truck.\"\"\"\n",
        "        if self.sold_on is None:\n",
        "            return 0.0  # Not yet sold\n",
        "        return 10000 - (.10 * self.miles)\n"
      ],
      "metadata": {
        "id": "Kp8HPuI377lp"
      },
      "execution_count": null,
      "outputs": []
    },
    {
      "cell_type": "markdown",
      "source": [
        "Wow. That's almost identical to the car class. One of the most important rules of programming (in general, not just when dealing with objects) is \"DRY\" or \"Don't Repeat Yourself. We've definitely repeated ourselves here. In fact, the Car and Truck classes differ only by a single character (aside from comments).\n",
        "\n",
        "So what gives? Where did we go wrong? Our main problem is that we raced straight to the concrete: Cars and Trucks are real things, tangible objects that make intuitive sense as classes. However, they share so much data and functionality in common that it seems there must be an abstraction we can introduce here. Indeed there is: the notion of Vehicles."
      ],
      "metadata": {
        "id": "AsoXb2Fa8FvB"
      }
    },
    {
      "cell_type": "markdown",
      "source": [
        "###**Abstract Classes**\n",
        "A Vehicle is not a real-world object. Rather, it is a concept that some real-world objects (like cars, trucks, and motorcycles) embody. We would like to use the fact that each of these objects can be considered a vehicle to remove repeated code. We can do that by creating a Vehicle class:"
      ],
      "metadata": {
        "id": "fLAxl_Ri8Kep"
      }
    },
    {
      "cell_type": "code",
      "source": [
        "class Vehicle(object):\n",
        "    \"\"\"A vehicle for sale by Jeffco Car Dealership.\n",
        "\n",
        "    Attributes:\n",
        "        wheels: An integer representing the number of wheels the vehicle has.\n",
        "        miles: The integral number of miles driven on the vehicle.\n",
        "        make: The make of the vehicle as a string.\n",
        "        model: The model of the vehicle as a string.\n",
        "        year: The integral year the vehicle was built.\n",
        "        sold_on: The date the vehicle was sold.\n",
        "    \"\"\"\n",
        "\n",
        "    base_sale_price = 0\n",
        "\n",
        "    def __init__(self, wheels, miles, make, model, year, sold_on):\n",
        "        \"\"\"Return a new Vehicle object.\"\"\"\n",
        "        self.wheels = wheels\n",
        "        self.miles = miles\n",
        "        self.make = make\n",
        "        self.model = model\n",
        "        self.year = year\n",
        "        self.sold_on = sold_on\n",
        "\n",
        "\n",
        "    def sale_price(self):\n",
        "        \"\"\"Return the sale price for this vehicle as a float amount.\"\"\"\n",
        "        if self.sold_on is not None:\n",
        "            return 0.0  # Already sold\n",
        "        return 5000.0 * self.wheels\n",
        "\n",
        "    def purchase_price(self):\n",
        "        \"\"\"Return the price for which we would pay to purchase the vehicle.\"\"\"\n",
        "        if self.sold_on is None:\n",
        "            return 0.0  # Not yet sold\n",
        "        return self.base_sale_price - (.10 * self.miles)"
      ],
      "metadata": {
        "id": "mbAkWbeo8HaA"
      },
      "execution_count": null,
      "outputs": []
    },
    {
      "cell_type": "markdown",
      "source": [
        "Now we can make the Car and Truck class inherit from the Vehicle class by replacing object in the line class Car(object). The class in parenthesis is the class that is inherited from (object essentially means \"no inheritance\". We'll discuss exactly why we write that in a bit).\n",
        "\n",
        "We can now define Car and Truck in a very straightforward way:"
      ],
      "metadata": {
        "id": "ZgL_f7iF8UjR"
      }
    },
    {
      "cell_type": "code",
      "source": [
        "class Car(Vehicle):\n",
        "\n",
        "    def __init__(self, wheels, miles, make, model, year, sold_on):\n",
        "        \"\"\"Return a new Car object.\"\"\"\n",
        "        self.wheels = wheels\n",
        "        self.miles = miles\n",
        "        self.make = make\n",
        "        self.model = model\n",
        "        self.year = year\n",
        "        self.sold_on = sold_on\n",
        "        self.base_sale_price = 8000\n",
        "\n",
        "\n",
        "class Truck(Vehicle):\n",
        "\n",
        "    def __init__(self, wheels, miles, make, model, year, sold_on):\n",
        "        \"\"\"Return a new Truck object.\"\"\"\n",
        "        self.wheels = wheels\n",
        "        self.miles = miles\n",
        "        self.make = make\n",
        "        self.model = model\n",
        "        self.year = year\n",
        "        self.sold_on = sold_on\n",
        "        self.base_sale_price = 10000"
      ],
      "metadata": {
        "id": "VzMDItZD8VNS"
      },
      "execution_count": null,
      "outputs": []
    },
    {
      "cell_type": "markdown",
      "source": [
        "This works, but has a few problems. First, we're still repeating a lot of code. We'd ultimately like to get rid of all repetition. Second, and more problematically, we've introduced the Vehicle class, but should we really allow people to create Vehicle objects (as opposed to Cars or Trucks)? A Vehicle is just a concept, not a real thing, so what does it mean to say the following:"
      ],
      "metadata": {
        "id": "5M0U2nyP8YJp"
      }
    },
    {
      "cell_type": "code",
      "source": [
        "v = Vehicle(4, 0, 'Honda', 'Accord', 2014, None)\n",
        "print(v.purchase_price())"
      ],
      "metadata": {
        "colab": {
          "base_uri": "https://localhost:8080/"
        },
        "id": "eZrj2TiO8Xxa",
        "outputId": "46958b2c-24fe-4f38-b860-679772322167"
      },
      "execution_count": null,
      "outputs": [
        {
          "output_type": "stream",
          "name": "stdout",
          "text": [
            "0.0\n"
          ]
        }
      ]
    },
    {
      "cell_type": "markdown",
      "source": [
        "A Vehicle doesn't have a base_sale_price, only the individual child classes like Car and Truck do. The issue is that Vehicle should really be an Abstract Base Class. Abstract Base Classes are classes that are only meant to be inherited from; you can't create instance of an ABC. That means that, if Vehicle is an ABC, the following is illegal:"
      ],
      "metadata": {
        "id": "edbNQhu78m4I"
      }
    },
    {
      "cell_type": "code",
      "source": [
        "v = Vehicle(4, 0, 'Honda', 'Accord', 2014, None)"
      ],
      "metadata": {
        "id": "ZJ5Yotgc8mnI"
      },
      "execution_count": null,
      "outputs": []
    },
    {
      "cell_type": "markdown",
      "source": [
        "It makes sense to disallow this, as we never meant for vehicles to be used directly. We just wanted to use it to abstract away some common data and behavior. So how do we make a class an ABC? Simple! The abc module contains a metaclass called ABCMeta (metaclasses are a bit outside the scope of this article). Setting a class's metaclass to ABCMeta and making one of its methods virtual makes it an ABC. A virtual method is one that the ABC says must exist in child classes, but doesn't necessarily actually implement. For example, the Vehicle class may be defined as follows:"
      ],
      "metadata": {
        "id": "4FCaRsxd8tBZ"
      }
    },
    {
      "cell_type": "code",
      "source": [
        "from abc import ABCMeta, abstractmethod\n",
        "\n",
        "class Vehicle(object):\n",
        "    \"\"\"A vehicle for sale by Jeffco Car Dealership.\n",
        "\n",
        "\n",
        "    Attributes:\n",
        "        wheels: An integer representing the number of wheels the vehicle has.\n",
        "        miles: The integral number of miles driven on the vehicle.\n",
        "        make: The make of the vehicle as a string.\n",
        "        model: The model of the vehicle as a string.\n",
        "        year: The integral year the vehicle was built.\n",
        "        sold_on: The date the vehicle was sold.\n",
        "    \"\"\"\n",
        "\n",
        "    __metaclass__ = ABCMeta\n",
        "\n",
        "    base_sale_price = 0\n",
        "\n",
        "    def sale_price(self):\n",
        "        \"\"\"Return the sale price for this vehicle as a float amount.\"\"\"\n",
        "        if self.sold_on is not None:\n",
        "            return 0.0  # Already sold\n",
        "        return 5000.0 * self.wheels\n",
        "\n",
        "    def purchase_price(self):\n",
        "        \"\"\"Return the price for which we would pay to purchase the vehicle.\"\"\"\n",
        "        if self.sold_on is None:\n",
        "            return 0.0  # Not yet sold\n",
        "        return self.base_sale_price - (.10 * self.miles)\n",
        "\n",
        "    @abstractmethod\n",
        "    def vehicle_type():\n",
        "        \"\"\"\"Return a string representing the type of vehicle this is.\"\"\"\n",
        "        pass"
      ],
      "metadata": {
        "id": "Rp8GxPD38t6R"
      },
      "execution_count": null,
      "outputs": []
    },
    {
      "cell_type": "markdown",
      "source": [
        "Now, since vehicle_type is an abstractmethod, we can't directly create an instance of Vehicle. As long as Car and Truck inherit from Vehicle and define vehicle_type, we can instantiate those classes just fine.\n",
        "\n",
        "Returning to the repetition in our Car and Truck classes, let see if we can't remove that by hoisting up common functionality to the base class, Vehicle:"
      ],
      "metadata": {
        "id": "C1X0jN5-8zVR"
      }
    },
    {
      "cell_type": "code",
      "source": [
        "from abc import ABCMeta, abstractmethod\n",
        "class Vehicle(object):\n",
        "    \"\"\"A vehicle for sale by Jeffco Car Dealership.\n",
        "\n",
        "\n",
        "    Attributes:\n",
        "        wheels: An integer representing the number of wheels the vehicle has.\n",
        "        miles: The integral number of miles driven on the vehicle.\n",
        "        make: The make of the vehicle as a string.\n",
        "        model: The model of the vehicle as a string.\n",
        "        year: The integral year the vehicle was built.\n",
        "        sold_on: The date the vehicle was sold.\n",
        "    \"\"\"\n",
        "\n",
        "    __metaclass__ = ABCMeta\n",
        "\n",
        "    base_sale_price = 0\n",
        "    wheels = 0\n",
        "\n",
        "    def __init__(self, miles, make, model, year, sold_on):\n",
        "        self.miles = miles\n",
        "        self.make = make\n",
        "        self.model = model\n",
        "        self.year = year\n",
        "        self.sold_on = sold_on\n",
        "\n",
        "    def sale_price(self):\n",
        "        \"\"\"Return the sale price for this vehicle as a float amount.\"\"\"\n",
        "        if self.sold_on is not None:\n",
        "            return 0.0  # Already sold\n",
        "        return 5000.0 * self.wheels\n",
        "\n",
        "    def purchase_price(self):\n",
        "        \"\"\"Return the price for which we would pay to purchase the vehicle.\"\"\"\n",
        "        if self.sold_on is None:\n",
        "            return 0.0  # Not yet sold\n",
        "        return self.base_sale_price - (.10 * self.miles)\n",
        "\n",
        "    @abstractmethod\n",
        "    def vehicle_type(self):\n",
        "        \"\"\"\"Return a string representing the type of vehicle this is.\"\"\"\n",
        "        pass"
      ],
      "metadata": {
        "id": "aOy--QMK80OJ"
      },
      "execution_count": null,
      "outputs": []
    },
    {
      "cell_type": "markdown",
      "source": [
        "Now the Car and Truck classes become:"
      ],
      "metadata": {
        "id": "4iP9Pwxm87Ii"
      }
    },
    {
      "cell_type": "code",
      "source": [
        "class Car(Vehicle):\n",
        "    \"\"\"A car for sale by Jeffco Car Dealership.\"\"\"\n",
        "\n",
        "    base_sale_price = 8000\n",
        "    wheels = 4\n",
        "\n",
        "    def vehicle_type(self):\n",
        "        \"\"\"\"Return a string representing the type of vehicle this is.\"\"\"\n",
        "        return 'car'\n",
        "\n",
        "class Truck(Vehicle):\n",
        "    \"\"\"A truck for sale by Jeffco Car Dealership.\"\"\"\n",
        "\n",
        "    base_sale_price = 10000\n",
        "    wheels = 4\n",
        "\n",
        "    def vehicle_type(self):\n",
        "        \"\"\"\"Return a string representing the type of vehicle this is.\"\"\"\n",
        "        return 'truck'"
      ],
      "metadata": {
        "id": "YOoUuekB88BZ"
      },
      "execution_count": null,
      "outputs": []
    },
    {
      "cell_type": "markdown",
      "source": [
        "This fits perfectly with our intuition: as far as our system is concerned, the only difference between a car and truck is the base sale price. Defining a Motorcycle class, then, is similarly simple:"
      ],
      "metadata": {
        "id": "Vc3Vu-Yf9Bu4"
      }
    },
    {
      "cell_type": "code",
      "source": [
        "class Motorcycle(Vehicle):\n",
        "    \"\"\"A motorcycle for sale by Jeffco Car Dealership.\"\"\"\n",
        "\n",
        "    base_sale_price = 4000\n",
        "    wheels = 2\n",
        "\n",
        "    def vehicle_type(self):\n",
        "        \"\"\"\"Return a string representing the type of vehicle this is.\"\"\"\n",
        "        return 'motorcycle'"
      ],
      "metadata": {
        "id": "wl2yxtI19CjJ"
      },
      "execution_count": null,
      "outputs": []
    },
    {
      "cell_type": "markdown",
      "source": [
        "###**Inheritance and the LSP**\n",
        "\n",
        "Even though it seems like we used inheritance to get rid of duplication, what we were really doing was simply providing the proper level of abstraction. And abstraction is the key to understanding inheritance. We've seen how one side-effect of using inheritance is that we reduce duplicated code, but what about from the caller's perspective. How does using inheritance change that code?\n",
        "\n",
        "Quite a bit, it turns out. Imagine we have two classes, Dog and Person, and we want to write a function that takes either type of object and prints out whether or not the instance in question can speak (a dog can't, a person can). We might write code like the following:"
      ],
      "metadata": {
        "id": "bIdHphpg9HKK"
      }
    },
    {
      "cell_type": "code",
      "source": [
        "def can_speak(animal):\n",
        "    if isinstance(animal, Person):\n",
        "        return True\n",
        "    elif isinstance(animal, Dog):\n",
        "        return False\n",
        "    else:\n",
        "        raise RuntimeError('Unknown animal!')"
      ],
      "metadata": {
        "id": "EytZf_kG9Mkw"
      },
      "execution_count": null,
      "outputs": []
    },
    {
      "cell_type": "markdown",
      "source": [
        "That works when we only have two types of animals, but what if we have twenty, or two hundred? That if...elif chain is going to get quite long.\n",
        "\n",
        "The key insight here is that can_speak shouldn't care what type of animal it's dealing with, the animal class itself should tell us if it can speak. By introducing a common base class, Animal, that defines can_speak, we relieve the function of it's type-checking burden. Now, as long as it knows it was an Animal that was passed in, determining if it can speak is trivial:"
      ],
      "metadata": {
        "id": "z4VdjQuf9P2o"
      }
    },
    {
      "cell_type": "code",
      "source": [
        "def can_speak(animal):\n",
        "    return animal.can_speak()\n"
      ],
      "metadata": {
        "id": "tz8RITe49Qng"
      },
      "execution_count": null,
      "outputs": []
    },
    {
      "cell_type": "markdown",
      "source": [
        "This works because Person and Dog (and whatever other classes we crate to derive from Animal) follow the Liskov Substitution Principle. This states that we should be able to use a child class (like Person or Dog) wherever a parent class (Animal) is expected an everything will work fine. This sounds simple, but it is the basis for a powerful concept we'll discuss in a future article: interfaces."
      ],
      "metadata": {
        "id": "DR47GG7v9WEY"
      }
    },
    {
      "cell_type": "markdown",
      "source": [
        "# **Errors and Exception Handling**"
      ],
      "metadata": {
        "id": "9434nYKN92Ii"
      }
    },
    {
      "cell_type": "markdown",
      "source": [
        "## **try and except**\n",
        "\n",
        "The basic terminology and syntax used to handle errors in Python are the <code>try</code> and <code>except</code> statements. The code which can cause an exception to occur is put in the <code>try</code> block and the handling of the exception is then implemented in the <code>except</code> block of code. The syntax follows:\n",
        "\n",
        "    try:\n",
        "       You do your operations here...\n",
        "       ...\n",
        "    except ExceptionI:\n",
        "       If there is ExceptionI, then execute this block.\n",
        "    except ExceptionII:\n",
        "       If there is ExceptionII, then execute this block.\n",
        "       ...\n",
        "    else:\n",
        "       If there is no exception then execute this block.\n",
        "\n",
        "We can also just check for any exception with just using <code>except:</code> To get a better understanding of all this let's check out an example: We will look at some code that opens and writes a file:"
      ],
      "metadata": {
        "id": "Y4-LtRLdDUMx"
      }
    },
    {
      "cell_type": "code",
      "source": [
        "try:\n",
        "    f = open('testfile','w')\n",
        "    f.write('Test write this')\n",
        "except IOError:\n",
        "    # This will only check for an IOError exception and then execute this print statement\n",
        "    print(\"Error: Could not find file or read data\")\n",
        "else:\n",
        "    print(\"Content written successfully\")\n",
        "    f.close()"
      ],
      "metadata": {
        "colab": {
          "base_uri": "https://localhost:8080/"
        },
        "id": "swqeh_CXDmhC",
        "outputId": "aa3ed859-ff05-4ea3-935a-09d5b52083b4"
      },
      "execution_count": null,
      "outputs": [
        {
          "output_type": "stream",
          "name": "stdout",
          "text": [
            "Content written successfully\n"
          ]
        }
      ]
    },
    {
      "cell_type": "markdown",
      "source": [
        "Now let's see what would happen if we did not have write permission (opening only with 'r'):"
      ],
      "metadata": {
        "id": "MbF-czgxDroC"
      }
    },
    {
      "cell_type": "code",
      "source": [
        "try:\n",
        "    f = open('testfile','r')\n",
        "    f.write('Test write this')\n",
        "except IOError:\n",
        "    # This will only check for an IOError exception and then execute this print statement\n",
        "    print(\"Error: Could not find file or read data\")\n",
        "else:\n",
        "    print(\"Content written successfully\")\n",
        "    f.close()"
      ],
      "metadata": {
        "colab": {
          "base_uri": "https://localhost:8080/"
        },
        "id": "nRypz7ACDsni",
        "outputId": "2ee2c1be-fd3e-42a5-b039-190b91b43155"
      },
      "execution_count": null,
      "outputs": [
        {
          "output_type": "stream",
          "name": "stdout",
          "text": [
            "Error: Could not find file or read data\n"
          ]
        }
      ]
    },
    {
      "cell_type": "markdown",
      "source": [
        "Great! Notice how we only printed a statement! The code still ran and we were able to continue doing actions and running code blocks. This is extremely useful when you have to account for possible input errors in your code. You can be prepared for the error and keep running code, instead of your code just breaking as we saw above.\n",
        "\n",
        "We could have also just said <code>except:</code> if we weren't sure what exception would occur. For example:"
      ],
      "metadata": {
        "id": "aOwm9-d6DyBK"
      }
    },
    {
      "cell_type": "code",
      "source": [
        "try:\n",
        "    f = open('testfile','r')\n",
        "    f.write('Test write this')\n",
        "except:\n",
        "    # This will check for any exception and then execute this print statement\n",
        "    print(\"Error: Could not find file or read data\")\n",
        "else:\n",
        "    print(\"Content written successfully\")\n",
        "    f.close()"
      ],
      "metadata": {
        "id": "qTIXUE05DyzS",
        "colab": {
          "base_uri": "https://localhost:8080/"
        },
        "outputId": "1f5b9fb3-7c40-4ae5-c4fd-3f1f68fdd8d5"
      },
      "execution_count": null,
      "outputs": [
        {
          "output_type": "stream",
          "name": "stdout",
          "text": [
            "Error: Could not find file or read data\n"
          ]
        }
      ]
    },
    {
      "cell_type": "markdown",
      "source": [
        "Great! Now we don't actually need to memorize that list of exception types! Now what if we kept wanting to run code after the exception occurred? This is where <code>finally</code> comes in.\n",
        "## **finally**\n",
        "The <code>finally:</code> block of code will always be run regardless if there was an exception in the <code>try</code> code block. The syntax is:\n",
        "\n",
        "    try:\n",
        "       Code block here\n",
        "       ...\n",
        "       Due to any exception, this code may be skipped!\n",
        "    finally:\n",
        "       This code block would always be executed.\n",
        "\n",
        "For example:"
      ],
      "metadata": {
        "id": "92qj_C_GD1K7"
      }
    },
    {
      "cell_type": "code",
      "source": [
        "try:\n",
        "    f = open(\"testfile\", \"w\")\n",
        "    f.write(\"Test write statement\")\n",
        "    f.close()\n",
        "finally:\n",
        "    print(\"Always execute finally code blocks\")"
      ],
      "metadata": {
        "colab": {
          "base_uri": "https://localhost:8080/"
        },
        "id": "njueKcAXD_PS",
        "outputId": "7ef4498d-fa46-486b-de51-375d7f5a8c44"
      },
      "execution_count": null,
      "outputs": [
        {
          "output_type": "stream",
          "name": "stdout",
          "text": [
            "Always execute finally code blocks\n"
          ]
        }
      ]
    },
    {
      "cell_type": "markdown",
      "source": [
        "We can use this in conjunction with <code>except</code>. Let's see a new example that will take into account a user providing the wrong input:"
      ],
      "metadata": {
        "id": "5aYrXDSUEDDS"
      }
    },
    {
      "cell_type": "code",
      "source": [
        "def askint():\n",
        "    try:\n",
        "        val = int(input(\"Please enter an integer: \"))\n",
        "    except:\n",
        "        print(\"Looks like you did not enter an integer!\")\n",
        "\n",
        "    finally:\n",
        "        print(\"Finally, I executed!\")\n",
        "    print(val)"
      ],
      "metadata": {
        "id": "yI91S5PmEFJC"
      },
      "execution_count": null,
      "outputs": []
    },
    {
      "cell_type": "code",
      "source": [
        "askint()"
      ],
      "metadata": {
        "colab": {
          "base_uri": "https://localhost:8080/"
        },
        "id": "4_s0y12gEKTT",
        "outputId": "90407f77-1f4c-4163-f19a-29e48e948a42"
      },
      "execution_count": null,
      "outputs": [
        {
          "output_type": "stream",
          "name": "stdout",
          "text": [
            "Please enter an integer: 5\n",
            "Finally, I executed!\n",
            "5\n"
          ]
        }
      ]
    },
    {
      "cell_type": "code",
      "source": [
        "askint()"
      ],
      "metadata": {
        "colab": {
          "base_uri": "https://localhost:8080/",
          "height": 305
        },
        "id": "DcH7ULbpEQa6",
        "outputId": "6a92b953-b677-4830-fd62-cfe70889f37b"
      },
      "execution_count": null,
      "outputs": [
        {
          "output_type": "stream",
          "name": "stdout",
          "text": [
            "Please enter an integer: five\n",
            "Looks like you did not enter an integer!\n",
            "Finally, I executed!\n"
          ]
        },
        {
          "output_type": "error",
          "ename": "UnboundLocalError",
          "evalue": "ignored",
          "traceback": [
            "\u001b[0;31m---------------------------------------------------------------------------\u001b[0m",
            "\u001b[0;31mUnboundLocalError\u001b[0m                         Traceback (most recent call last)",
            "\u001b[0;32m<ipython-input-4-cc291aa76c10>\u001b[0m in \u001b[0;36m<cell line: 1>\u001b[0;34m()\u001b[0m\n\u001b[0;32m----> 1\u001b[0;31m \u001b[0maskint\u001b[0m\u001b[0;34m(\u001b[0m\u001b[0;34m)\u001b[0m\u001b[0;34m\u001b[0m\u001b[0;34m\u001b[0m\u001b[0m\n\u001b[0m",
            "\u001b[0;32m<ipython-input-2-c97dd1c75d24>\u001b[0m in \u001b[0;36maskint\u001b[0;34m()\u001b[0m\n\u001b[1;32m      7\u001b[0m     \u001b[0;32mfinally\u001b[0m\u001b[0;34m:\u001b[0m\u001b[0;34m\u001b[0m\u001b[0;34m\u001b[0m\u001b[0m\n\u001b[1;32m      8\u001b[0m         \u001b[0mprint\u001b[0m\u001b[0;34m(\u001b[0m\u001b[0;34m\"Finally, I executed!\"\u001b[0m\u001b[0;34m)\u001b[0m\u001b[0;34m\u001b[0m\u001b[0;34m\u001b[0m\u001b[0m\n\u001b[0;32m----> 9\u001b[0;31m     \u001b[0mprint\u001b[0m\u001b[0;34m(\u001b[0m\u001b[0mval\u001b[0m\u001b[0;34m)\u001b[0m\u001b[0;34m\u001b[0m\u001b[0;34m\u001b[0m\u001b[0m\n\u001b[0m",
            "\u001b[0;31mUnboundLocalError\u001b[0m: local variable 'val' referenced before assignment"
          ]
        }
      ]
    },
    {
      "cell_type": "markdown",
      "source": [
        "Notice how we got an error when trying to print val (because it was never properly assigned). Let's remedy this by asking the user and checking to make sure the input type is an integer:"
      ],
      "metadata": {
        "id": "mWWkW7d0EWai"
      }
    },
    {
      "cell_type": "code",
      "source": [
        "def askint():\n",
        "    try:\n",
        "        val = int(input(\"Please enter an integer: \"))\n",
        "    except:\n",
        "        print(\"Looks like you did not enter an integer!\")\n",
        "        val = int(input(\"Try again-Please enter an integer: \"))\n",
        "    finally:\n",
        "        print(\"Finally, I executed!\")\n",
        "    print(val)"
      ],
      "metadata": {
        "id": "0Ib159NFEXaq"
      },
      "execution_count": null,
      "outputs": []
    },
    {
      "cell_type": "code",
      "source": [
        "askint()"
      ],
      "metadata": {
        "colab": {
          "base_uri": "https://localhost:8080/",
          "height": 524
        },
        "id": "UHRPEmV0Ed9S",
        "outputId": "ad0c9815-b7e8-4083-982c-cfb68316a4fa"
      },
      "execution_count": null,
      "outputs": [
        {
          "output_type": "stream",
          "name": "stdout",
          "text": [
            "Please enter an integer: FIVE\n",
            "Looks like you did not enter an integer!\n",
            "Try again-Please enter an integer: FOUR\n",
            "Finally, I executed!\n"
          ]
        },
        {
          "output_type": "error",
          "ename": "ValueError",
          "evalue": "ignored",
          "traceback": [
            "\u001b[0;31m---------------------------------------------------------------------------\u001b[0m",
            "\u001b[0;31mValueError\u001b[0m                                Traceback (most recent call last)",
            "\u001b[0;32m<ipython-input-37-92b5f751eb01>\u001b[0m in \u001b[0;36maskint\u001b[0;34m()\u001b[0m\n\u001b[1;32m      2\u001b[0m     \u001b[0;32mtry\u001b[0m\u001b[0;34m:\u001b[0m\u001b[0;34m\u001b[0m\u001b[0;34m\u001b[0m\u001b[0m\n\u001b[0;32m----> 3\u001b[0;31m         \u001b[0mval\u001b[0m \u001b[0;34m=\u001b[0m \u001b[0mint\u001b[0m\u001b[0;34m(\u001b[0m\u001b[0minput\u001b[0m\u001b[0;34m(\u001b[0m\u001b[0;34m\"Please enter an integer: \"\u001b[0m\u001b[0;34m)\u001b[0m\u001b[0;34m)\u001b[0m\u001b[0;34m\u001b[0m\u001b[0;34m\u001b[0m\u001b[0m\n\u001b[0m\u001b[1;32m      4\u001b[0m     \u001b[0;32mexcept\u001b[0m\u001b[0;34m:\u001b[0m\u001b[0;34m\u001b[0m\u001b[0;34m\u001b[0m\u001b[0m\n",
            "\u001b[0;31mValueError\u001b[0m: invalid literal for int() with base 10: 'FIVE'",
            "\nDuring handling of the above exception, another exception occurred:\n",
            "\u001b[0;31mValueError\u001b[0m                                Traceback (most recent call last)",
            "\u001b[0;32m<ipython-input-38-cc291aa76c10>\u001b[0m in \u001b[0;36m<module>\u001b[0;34m\u001b[0m\n\u001b[0;32m----> 1\u001b[0;31m \u001b[0maskint\u001b[0m\u001b[0;34m(\u001b[0m\u001b[0;34m)\u001b[0m\u001b[0;34m\u001b[0m\u001b[0;34m\u001b[0m\u001b[0m\n\u001b[0m",
            "\u001b[0;32m<ipython-input-37-92b5f751eb01>\u001b[0m in \u001b[0;36maskint\u001b[0;34m()\u001b[0m\n\u001b[1;32m      4\u001b[0m     \u001b[0;32mexcept\u001b[0m\u001b[0;34m:\u001b[0m\u001b[0;34m\u001b[0m\u001b[0;34m\u001b[0m\u001b[0m\n\u001b[1;32m      5\u001b[0m         \u001b[0mprint\u001b[0m\u001b[0;34m(\u001b[0m\u001b[0;34m\"Looks like you did not enter an integer!\"\u001b[0m\u001b[0;34m)\u001b[0m\u001b[0;34m\u001b[0m\u001b[0;34m\u001b[0m\u001b[0m\n\u001b[0;32m----> 6\u001b[0;31m         \u001b[0mval\u001b[0m \u001b[0;34m=\u001b[0m \u001b[0mint\u001b[0m\u001b[0;34m(\u001b[0m\u001b[0minput\u001b[0m\u001b[0;34m(\u001b[0m\u001b[0;34m\"Try again-Please enter an integer: \"\u001b[0m\u001b[0;34m)\u001b[0m\u001b[0;34m)\u001b[0m\u001b[0;34m\u001b[0m\u001b[0;34m\u001b[0m\u001b[0m\n\u001b[0m\u001b[1;32m      7\u001b[0m     \u001b[0;32mfinally\u001b[0m\u001b[0;34m:\u001b[0m\u001b[0;34m\u001b[0m\u001b[0;34m\u001b[0m\u001b[0m\n\u001b[1;32m      8\u001b[0m         \u001b[0mprint\u001b[0m\u001b[0;34m(\u001b[0m\u001b[0;34m\"Finally, I executed!\"\u001b[0m\u001b[0;34m)\u001b[0m\u001b[0;34m\u001b[0m\u001b[0;34m\u001b[0m\u001b[0m\n",
            "\u001b[0;31mValueError\u001b[0m: invalid literal for int() with base 10: 'FOUR'"
          ]
        }
      ]
    },
    {
      "cell_type": "markdown",
      "source": [
        "Hmmm...that only did one check. How can we continually keep checking? We can use a while loop!"
      ],
      "metadata": {
        "id": "PpLsVX-AEaY7"
      }
    },
    {
      "cell_type": "code",
      "source": [
        "def askint():\n",
        "    while True:\n",
        "        try:\n",
        "            val = int(input(\"Please enter an integer: \"))\n",
        "        except:\n",
        "            print(\"Looks like you did not enter an integer!\")\n",
        "            continue\n",
        "        else:\n",
        "            print(\"Yep that's an integer!\")\n",
        "            break\n",
        "        finally:\n",
        "            print(\"Finally, I executed!\")\n",
        "        print(val)"
      ],
      "metadata": {
        "id": "nxNieU2hEoyi"
      },
      "execution_count": null,
      "outputs": []
    },
    {
      "cell_type": "code",
      "source": [
        "askint()"
      ],
      "metadata": {
        "colab": {
          "base_uri": "https://localhost:8080/"
        },
        "id": "OGYoAqKUEuLB",
        "outputId": "d4ef7a42-ec68-46e3-e065-4d1be7796eef"
      },
      "execution_count": null,
      "outputs": [
        {
          "output_type": "stream",
          "name": "stdout",
          "text": [
            "Please enter an integer: FIVE\n",
            "Looks like you did not enter an integer!\n",
            "Finally, I executed!\n",
            "Please enter an integer: FOUR\n",
            "Looks like you did not enter an integer!\n",
            "Finally, I executed!\n",
            "Please enter an integer: 3\n",
            "Yep that's an integer!\n",
            "Finally, I executed!\n"
          ]
        }
      ]
    },
    {
      "cell_type": "markdown",
      "source": [
        "So why did our function print \"Finally, I executed!\" after each trial, yet it never printed `val` itself? This is because with a try/except/finally clause, any <code>continue</code> or <code>break</code> statements are reserved until *after* the try clause is completed. This means that even though a successful input of **3** brought us to the <code>else:</code> block, and a <code>break</code> statement was thrown, the try clause continued through to <code>finally:</code> before breaking out of the while loop. And since <code>print(val)</code> was outside the try clause, the <code>break</code> statement prevented it from running.\n",
        "\n",
        "Let's make one final adjustment:"
      ],
      "metadata": {
        "id": "6gdoca31E105"
      }
    },
    {
      "cell_type": "code",
      "source": [
        "def askint():\n",
        "    while True:\n",
        "        try:\n",
        "            val = int(input(\"Please enter an integer: \"))\n",
        "        except:\n",
        "            print(\"Looks like you did not enter an integer!\")\n",
        "            continue\n",
        "        else:\n",
        "            print(\"Yep that's an integer!\")\n",
        "            print(val)\n",
        "            break\n",
        "        finally:\n",
        "            print(\"Finally, I executed!\")"
      ],
      "metadata": {
        "id": "_Vp4bZqYE22q"
      },
      "execution_count": null,
      "outputs": []
    },
    {
      "cell_type": "code",
      "source": [
        "askint()"
      ],
      "metadata": {
        "colab": {
          "base_uri": "https://localhost:8080/"
        },
        "id": "a_RWsddxE9uu",
        "outputId": "119880da-db0d-4545-f0d6-842a3ec88f00"
      },
      "execution_count": null,
      "outputs": [
        {
          "output_type": "stream",
          "name": "stdout",
          "text": [
            "Please enter an integer: SIX\n",
            "Looks like you did not enter an integer!\n",
            "Finally, I executed!\n",
            "Please enter an integer: 6\n",
            "Yep that's an integer!\n",
            "6\n",
            "Finally, I executed!\n"
          ]
        }
      ]
    },
    {
      "cell_type": "code",
      "source": [
        "try:\n",
        "    for i in ['a','b','c']:\n",
        "        print(i**2)\n",
        "except:\n",
        "    print(\"An error occurred!\")"
      ],
      "metadata": {
        "colab": {
          "base_uri": "https://localhost:8080/"
        },
        "id": "FdXyUf1QFMaa",
        "outputId": "8ba1644f-c2a9-4c93-e38e-9d162d7d5803"
      },
      "execution_count": null,
      "outputs": [
        {
          "output_type": "stream",
          "name": "stdout",
          "text": [
            "An error occurred!\n"
          ]
        }
      ]
    },
    {
      "cell_type": "code",
      "source": [
        "x = 5\n",
        "y = 0\n",
        "try:\n",
        "    z = x/y\n",
        "except ZeroDivisionError:\n",
        "    print(\"Can't divide by Zero!\")\n",
        "finally:\n",
        "    print('All Done!')"
      ],
      "metadata": {
        "colab": {
          "base_uri": "https://localhost:8080/"
        },
        "id": "_kAFbiZjFO1a",
        "outputId": "6952e8f8-1e39-43b3-b41e-ce503556a5e3"
      },
      "execution_count": null,
      "outputs": [
        {
          "output_type": "stream",
          "name": "stdout",
          "text": [
            "Can't divide by Zero!\n",
            "All Done!\n"
          ]
        }
      ]
    },
    {
      "cell_type": "code",
      "source": [
        "def ask():\n",
        "\n",
        "    while True:\n",
        "        try:\n",
        "            n = int(input('Input an integer: '))\n",
        "        except:\n",
        "            print('An error occurred! Please try again!')\n",
        "            continue\n",
        "        else:\n",
        "            break\n",
        "\n",
        "\n",
        "    print('Thank you, your number squared is: ',n**2)"
      ],
      "metadata": {
        "id": "oEFm9qkZFUZC"
      },
      "execution_count": null,
      "outputs": []
    },
    {
      "cell_type": "code",
      "source": [
        "ask()"
      ],
      "metadata": {
        "colab": {
          "base_uri": "https://localhost:8080/"
        },
        "id": "9tDP7edcFXfK",
        "outputId": "ba8f1d6b-253d-45d5-a81c-74e27e2a9880"
      },
      "execution_count": null,
      "outputs": [
        {
          "output_type": "stream",
          "name": "stdout",
          "text": [
            "Input an integer: NULL\n",
            "An error occurred! Please try again!\n",
            "Input an integer: 2\n",
            "Thank you, your number squared is:  4\n"
          ]
        }
      ]
    },
    {
      "cell_type": "markdown",
      "source": [
        "## **map()**\n",
        "\n",
        "map() is a built-in Python function that takes in two or more arguments: a function and one or more iterables, in the form:\n",
        "\n",
        "    map(function, iterable, ...)\n",
        "    \n",
        "map() returns an *iterator* - that is, map() returns a special object that yields one result at a time as needed. We will learn more about iterators and generators in a future lecture. For now, since our examples are so small, we will cast map() as a list to see the results immediately.\n",
        "\n",
        "When we went over list comprehensions we created a small expression to convert Celsius to Fahrenheit. Let's do the same here but use map:"
      ],
      "metadata": {
        "id": "1y06_iJFGbaq"
      }
    },
    {
      "cell_type": "code",
      "source": [
        "def fahrenheit(celsius):\n",
        "    return (9/5)*celsius + 32\n",
        "\n",
        "temps = [0, 22.5, 40, 100]"
      ],
      "metadata": {
        "id": "uYvVeCeDGgLr"
      },
      "execution_count": null,
      "outputs": []
    },
    {
      "cell_type": "markdown",
      "source": [
        "Now let's see map() in action:"
      ],
      "metadata": {
        "id": "LprEjmHfGlWa"
      }
    },
    {
      "cell_type": "code",
      "source": [
        "F_temps = map(fahrenheit, temps)\n",
        "\n",
        "#Show\n",
        "list(F_temps)"
      ],
      "metadata": {
        "colab": {
          "base_uri": "https://localhost:8080/"
        },
        "id": "WB-kcSw-Gk9a",
        "outputId": "43b0f7be-5832-4fd8-f63b-d8e740befbf6"
      },
      "execution_count": null,
      "outputs": [
        {
          "output_type": "execute_result",
          "data": {
            "text/plain": [
              "[32.0, 72.5, 104.0, 212.0]"
            ]
          },
          "metadata": {},
          "execution_count": 48
        }
      ]
    },
    {
      "cell_type": "markdown",
      "source": [
        "In the example above, map() applies the fahrenheit function to every item in temps. However, we don't have to define our functions beforehand; we can use a lambda expression instead:"
      ],
      "metadata": {
        "id": "4KttvitdGzoY"
      }
    },
    {
      "cell_type": "code",
      "source": [
        "list(map(lambda x: (9/5)*x + 32, temps))"
      ],
      "metadata": {
        "colab": {
          "base_uri": "https://localhost:8080/"
        },
        "id": "QeYGwQMSGzLH",
        "outputId": "98a0ab78-6591-467e-af09-131e99a0b9dd"
      },
      "execution_count": null,
      "outputs": [
        {
          "output_type": "execute_result",
          "data": {
            "text/plain": [
              "[32.0, 72.5, 104.0, 212.0]"
            ]
          },
          "metadata": {},
          "execution_count": 49
        }
      ]
    },
    {
      "cell_type": "markdown",
      "source": [
        "Great! We got the same result! Using map with lambda expressions is much more common since the entire purpose of map() is to save effort on having to create manual for loops."
      ],
      "metadata": {
        "id": "WrtAnJYZG4bf"
      }
    },
    {
      "cell_type": "markdown",
      "source": [
        "### map() with multiple iterables\n",
        "map() can accept more than one iterable. The iterables should be the same length - in the event that they are not, map() will stop as soon as the shortest iterable is exhausted.\n",
        "\n",
        "\n",
        "For instance, if our function is trying to add two values **x** and **y**, we can pass a list of **x** values and another list of **y** values to map(). The function (or lambda) will be fed the 0th index from each list, and then the 1st index, and so on until the n-th index is reached.\n",
        "\n",
        "Let's see this in action with two and then three lists:"
      ],
      "metadata": {
        "id": "2_qVLKuXG8v_"
      }
    },
    {
      "cell_type": "code",
      "source": [
        "a = [1,2,3,4]\n",
        "b = [5,6,7,8]\n",
        "c = [9,10,11,12]\n",
        "\n",
        "list(map(lambda x,y:x+y,a,b))"
      ],
      "metadata": {
        "colab": {
          "base_uri": "https://localhost:8080/"
        },
        "id": "BMk8Jd67G4Bv",
        "outputId": "70a7233c-4287-4702-edeb-2b6fc4e089df"
      },
      "execution_count": null,
      "outputs": [
        {
          "output_type": "execute_result",
          "data": {
            "text/plain": [
              "[6, 8, 10, 12]"
            ]
          },
          "metadata": {},
          "execution_count": 50
        }
      ]
    },
    {
      "cell_type": "code",
      "source": [
        "# Now all three lists\n",
        "list(map(lambda x,y,z:x+y+z,a,b,c))"
      ],
      "metadata": {
        "colab": {
          "base_uri": "https://localhost:8080/"
        },
        "id": "Nz8x6CV2HDxr",
        "outputId": "1a3326b5-135f-4869-b39c-690c258ca796"
      },
      "execution_count": null,
      "outputs": [
        {
          "output_type": "execute_result",
          "data": {
            "text/plain": [
              "[15, 18, 21, 24]"
            ]
          },
          "metadata": {},
          "execution_count": 51
        }
      ]
    },
    {
      "cell_type": "markdown",
      "source": [
        "We can see in the example above that the parameter **x** gets its values from the list **a**, while **y** gets its values from **b** and **z** from list **c**. Go ahead and play with your own example to make sure you fully understand mapping to more than one iterable."
      ],
      "metadata": {
        "id": "cRHZ7fuYHJ9C"
      }
    },
    {
      "cell_type": "markdown",
      "source": [
        "## **reduce()**\n",
        "\n",
        "The function reduce(function, sequence) continually applies the function to the sequence. It then returns a single value.\n",
        "\n",
        "If seq = [ s1, s2, s3, ... , sn ], calling reduce(function, sequence) works like this:\n",
        "\n",
        "* At first the first two elements of seq will be applied to function, i.e. func(s1,s2)\n",
        "* The list on which reduce() works looks now like this: [ function(s1, s2), s3, ... , sn ]\n",
        "* In the next step the function will be applied on the previous result and the third element of the list, i.e. function(function(s1, s2),s3)\n",
        "* The list looks like this now: [ function(function(s1, s2),s3), ... , sn ]\n",
        "* It continues like this until just one element is left and return this element as the result of reduce()\n",
        "\n",
        "Let's see an example:"
      ],
      "metadata": {
        "id": "2unT9L8AHnFz"
      }
    },
    {
      "cell_type": "code",
      "source": [
        "from functools import reduce\n",
        "\n",
        "lst =[47,11,42,13]\n",
        "reduce(lambda x,y: x+y,lst)"
      ],
      "metadata": {
        "colab": {
          "base_uri": "https://localhost:8080/"
        },
        "id": "b2Fd8TX3HqPL",
        "outputId": "bd60f047-a967-41c7-f7a8-a5e6eb969ce5"
      },
      "execution_count": null,
      "outputs": [
        {
          "output_type": "execute_result",
          "data": {
            "text/plain": [
              "113"
            ]
          },
          "metadata": {},
          "execution_count": 52
        }
      ]
    },
    {
      "cell_type": "markdown",
      "source": [
        "Lets look at a diagram to get a better understanding of what is going on here:"
      ],
      "metadata": {
        "id": "K4cIT1tzHwXD"
      }
    },
    {
      "cell_type": "markdown",
      "source": [
        "![image.png](data:image/png;base64,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)"
      ],
      "metadata": {
        "id": "X1EBYpIoH3Tm"
      }
    },
    {
      "cell_type": "markdown",
      "source": [
        "Note how we keep reducing the sequence until a single final value is obtained. Lets see another example:"
      ],
      "metadata": {
        "id": "FqkUpXFDH8XD"
      }
    },
    {
      "cell_type": "code",
      "source": [
        "#Find the maximum of a sequence (This already exists as max())\n",
        "max_find = lambda a,b: a if (a > b) else b"
      ],
      "metadata": {
        "id": "2wHa50H4H-dr"
      },
      "execution_count": null,
      "outputs": []
    },
    {
      "cell_type": "code",
      "source": [
        "#Find max\n",
        "reduce(max_find,lst)"
      ],
      "metadata": {
        "colab": {
          "base_uri": "https://localhost:8080/"
        },
        "id": "yYtC91nUIA98",
        "outputId": "830c9cea-ecad-4e92-e357-befb4dbd5b7a"
      },
      "execution_count": null,
      "outputs": [
        {
          "output_type": "execute_result",
          "data": {
            "text/plain": [
              "47"
            ]
          },
          "metadata": {},
          "execution_count": 55
        }
      ]
    },
    {
      "cell_type": "markdown",
      "source": [
        "## **filter**\n",
        "\n",
        "The function filter(function, list) offers a convenient way to filter out all the elements of an iterable, for which the function returns True.\n",
        "\n",
        "The function filter(function,list) needs a function as its first argument. The function needs to return a Boolean value (either True or False). This function will be applied to every element of the iterable. Only if the function returns True will the element of the iterable be included in the result.\n",
        "\n",
        "Like map(), filter() returns an *iterator* - that is, filter yields one result at a time as needed. Iterators and generators will be covered in an upcoming lecture. For now, since our examples are so small, we will cast filter() as a list to see our results immediately.\n",
        "\n",
        "Let's see some examples:"
      ],
      "metadata": {
        "id": "vDeBX6I-INvu"
      }
    },
    {
      "cell_type": "code",
      "source": [
        "#First let's make a function\n",
        "def even_check(num):\n",
        "    if num%2 ==0:\n",
        "        return True"
      ],
      "metadata": {
        "id": "30WqKafFIiZD"
      },
      "execution_count": null,
      "outputs": []
    },
    {
      "cell_type": "markdown",
      "source": [
        "Now let's filter a list of numbers. Note: putting the function into filter without any parentheses might feel strange, but keep in mind that functions are objects as well."
      ],
      "metadata": {
        "id": "CDWi3N4cInlb"
      }
    },
    {
      "cell_type": "code",
      "source": [
        "lst =range(20)\n",
        "\n",
        "list(filter(even_check,lst))"
      ],
      "metadata": {
        "colab": {
          "base_uri": "https://localhost:8080/"
        },
        "id": "PhChBlV5IpHj",
        "outputId": "e16e3346-9f26-436d-c10a-4dafaf94b19c"
      },
      "execution_count": null,
      "outputs": [
        {
          "output_type": "execute_result",
          "data": {
            "text/plain": [
              "[0, 2, 4, 6, 8, 10, 12, 14, 16, 18]"
            ]
          },
          "metadata": {},
          "execution_count": 57
        }
      ]
    },
    {
      "cell_type": "markdown",
      "source": [
        "filter() is more commonly used with lambda functions, because we usually use filter for a quick job where we don't want to write an entire function. Let's repeat the example above using a lambda expression:"
      ],
      "metadata": {
        "id": "spY6sMQbIumU"
      }
    },
    {
      "cell_type": "code",
      "source": [
        "list(filter(lambda x: x%2==0,lst))"
      ],
      "metadata": {
        "colab": {
          "base_uri": "https://localhost:8080/"
        },
        "id": "jJclgg67IuAj",
        "outputId": "914ca930-a42d-4cd0-bdcc-cd27de148812"
      },
      "execution_count": null,
      "outputs": [
        {
          "output_type": "execute_result",
          "data": {
            "text/plain": [
              "[0, 2, 4, 6, 8, 10, 12, 14, 16, 18]"
            ]
          },
          "metadata": {},
          "execution_count": 58
        }
      ]
    },
    {
      "cell_type": "markdown",
      "source": [
        "## **zip**\n",
        "\n",
        "zip() makes an iterator that aggregates elements from each of the iterables.\n",
        "\n",
        "Returns an iterator of tuples, where the i-th tuple contains the i-th element from each of the argument sequences or iterables. The iterator stops when the shortest input iterable is exhausted. With a single iterable argument, it returns an iterator of 1-tuples. With no arguments, it returns an empty iterator.\n",
        "\n",
        "zip() is equivalent to:\n",
        "\n",
        "    def zip(*iterables):\n",
        "        # zip('ABCD', 'xy') --> Ax By\n",
        "        sentinel = object()\n",
        "        iterators = [iter(it) for it in iterables]\n",
        "        while iterators:\n",
        "            result = []\n",
        "            for it in iterators:\n",
        "                elem = next(it, sentinel)\n",
        "                if elem is sentinel:\n",
        "                    return\n",
        "                result.append(elem)\n",
        "            yield tuple(result)\n",
        "        \n",
        "\n",
        "zip() should only be used with unequal length inputs when you don’t care about trailing, unmatched values from the longer iterables."
      ],
      "metadata": {
        "id": "VC-QwQ25JDAb"
      }
    },
    {
      "cell_type": "code",
      "source": [
        "x = [1,2,3]\n",
        "y = [4,5,6]\n",
        "\n",
        "# Zip the lists together\n",
        "list(zip(x,y))"
      ],
      "metadata": {
        "colab": {
          "base_uri": "https://localhost:8080/"
        },
        "id": "Y6fsPHn0JIfb",
        "outputId": "a49b0c3c-09f6-42b3-91f8-58ad840d3037"
      },
      "execution_count": null,
      "outputs": [
        {
          "output_type": "execute_result",
          "data": {
            "text/plain": [
              "[(1, 4), (2, 5), (3, 6)]"
            ]
          },
          "metadata": {},
          "execution_count": 59
        }
      ]
    },
    {
      "cell_type": "markdown",
      "source": [
        "Note how tuples are returned. What if one iterable is longer than the other?"
      ],
      "metadata": {
        "id": "QToN2JJeJQMD"
      }
    },
    {
      "cell_type": "code",
      "source": [
        "x = [1,2,3]\n",
        "y = [4,5,6,7,8]\n",
        "\n",
        "# Zip the lists together\n",
        "list(zip(x,y))"
      ],
      "metadata": {
        "colab": {
          "base_uri": "https://localhost:8080/"
        },
        "id": "jtYaNPKeJQzi",
        "outputId": "363b8e04-2656-4532-b0cf-f78125be083c"
      },
      "execution_count": null,
      "outputs": [
        {
          "output_type": "execute_result",
          "data": {
            "text/plain": [
              "[(1, 4), (2, 5), (3, 6)]"
            ]
          },
          "metadata": {},
          "execution_count": 60
        }
      ]
    },
    {
      "cell_type": "markdown",
      "source": [
        "Note how the zip is defined by the shortest iterable length. Its generally advised not to zip unequal length iterables unless your very sure you only need partial tuple pairings.\n",
        "\n",
        "What happens if we try to zip together dictionaries?"
      ],
      "metadata": {
        "id": "FTIfy0o6Jdcb"
      }
    },
    {
      "cell_type": "code",
      "source": [
        "d1 = {'a':1,'b':2}\n",
        "d2 = {'c':4,'d':5}\n",
        "\n",
        "list(zip(d1,d2))"
      ],
      "metadata": {
        "colab": {
          "base_uri": "https://localhost:8080/"
        },
        "id": "C49EZ3khJeP7",
        "outputId": "325667e2-3431-49c1-f25e-c6ee4843acb2"
      },
      "execution_count": null,
      "outputs": [
        {
          "output_type": "execute_result",
          "data": {
            "text/plain": [
              "[('a', 'c'), ('b', 'd')]"
            ]
          },
          "metadata": {},
          "execution_count": 61
        }
      ]
    },
    {
      "cell_type": "markdown",
      "source": [
        "This makes sense because simply iterating through the dictionaries will result in just the keys. We would have to call methods to mix keys and values:"
      ],
      "metadata": {
        "id": "Cs_VI9JYJnPp"
      }
    },
    {
      "cell_type": "code",
      "source": [
        "list(zip(d2,d1.values()))"
      ],
      "metadata": {
        "colab": {
          "base_uri": "https://localhost:8080/"
        },
        "id": "jCdU-1vkJm4y",
        "outputId": "52154b5a-24d3-4c18-c0cc-7c60897f93d7"
      },
      "execution_count": null,
      "outputs": [
        {
          "output_type": "execute_result",
          "data": {
            "text/plain": [
              "[('c', 1), ('d', 2)]"
            ]
          },
          "metadata": {},
          "execution_count": 62
        }
      ]
    },
    {
      "cell_type": "markdown",
      "source": [
        "Great! Finally lets use zip() to switch the keys and values of the two dictionaries:"
      ],
      "metadata": {
        "id": "od00FZv5JsBk"
      }
    },
    {
      "cell_type": "code",
      "source": [
        "def switcharoo(d1,d2):\n",
        "    dout = {}\n",
        "\n",
        "    for d1key,d2val in zip(d1,d2.values()):\n",
        "        dout[d1key] = d2val\n",
        "\n",
        "    return dout"
      ],
      "metadata": {
        "id": "Yw4Obkq5Jt8R"
      },
      "execution_count": null,
      "outputs": []
    },
    {
      "cell_type": "code",
      "source": [
        "switcharoo(d1,d2)"
      ],
      "metadata": {
        "colab": {
          "base_uri": "https://localhost:8080/"
        },
        "id": "kOR4oRSnJw-1",
        "outputId": "530fb865-03ff-46da-cf89-50cf8c536e30"
      },
      "execution_count": null,
      "outputs": [
        {
          "output_type": "execute_result",
          "data": {
            "text/plain": [
              "{'a': 4, 'b': 5}"
            ]
          },
          "metadata": {},
          "execution_count": 64
        }
      ]
    },
    {
      "cell_type": "markdown",
      "source": [
        "## **enumerate()**\n",
        "\n",
        "In this lecture we will learn about an extremely useful built-in function: enumerate(). Enumerate allows you to keep a count as you iterate through an object. It does this by returning a tuple in the form (count,element). The function itself is equivalent to:\n",
        "\n",
        "    def enumerate(sequence, start=0):\n",
        "        n = start\n",
        "        for elem in sequence:\n",
        "            yield n, elem\n",
        "            n += 1\n"
      ],
      "metadata": {
        "id": "zNpyET-LJ597"
      }
    },
    {
      "cell_type": "code",
      "source": [
        "lst = ['a','b','c']\n",
        "\n",
        "for number,item in enumerate(lst):\n",
        "    print(number)\n",
        "    print(item)"
      ],
      "metadata": {
        "colab": {
          "base_uri": "https://localhost:8080/"
        },
        "id": "he2prmjYJ5Xz",
        "outputId": "b2b2ba8e-fb0f-4395-dce1-b85ddce00543"
      },
      "execution_count": null,
      "outputs": [
        {
          "output_type": "stream",
          "name": "stdout",
          "text": [
            "0\n",
            "a\n",
            "1\n",
            "b\n",
            "2\n",
            "c\n"
          ]
        }
      ]
    },
    {
      "cell_type": "markdown",
      "source": [
        "enumerate() becomes particularly useful when you have a case where you need to have some sort of tracker. For example:"
      ],
      "metadata": {
        "id": "hioH4RPfKEIa"
      }
    },
    {
      "cell_type": "code",
      "source": [
        "for count,item in enumerate(lst):\n",
        "    if count >= 2:\n",
        "        break\n",
        "    else:\n",
        "        print(item)"
      ],
      "metadata": {
        "colab": {
          "base_uri": "https://localhost:8080/"
        },
        "id": "GXiK_BBtKE1b",
        "outputId": "56ab9f13-40cc-4b43-f44c-b170e62785b0"
      },
      "execution_count": null,
      "outputs": [
        {
          "output_type": "stream",
          "name": "stdout",
          "text": [
            "a\n",
            "b\n"
          ]
        }
      ]
    },
    {
      "cell_type": "markdown",
      "source": [
        "enumerate() takes an optional \"start\" argument to override the default value of zero:"
      ],
      "metadata": {
        "id": "gHppy2mCKKLi"
      }
    },
    {
      "cell_type": "code",
      "source": [
        "months = ['March','April','May','June']\n",
        "\n",
        "list(enumerate(months,start=3))"
      ],
      "metadata": {
        "colab": {
          "base_uri": "https://localhost:8080/"
        },
        "id": "TLMIMKmVKLGl",
        "outputId": "68e05bb7-a833-4e88-f4f4-da2cecf87a56"
      },
      "execution_count": null,
      "outputs": [
        {
          "output_type": "execute_result",
          "data": {
            "text/plain": [
              "[(3, 'March'), (4, 'April'), (5, 'May'), (6, 'June')]"
            ]
          },
          "metadata": {},
          "execution_count": 67
        }
      ]
    },
    {
      "cell_type": "markdown",
      "source": [
        "## **all() and any()**\n",
        "\n",
        "all() and any() are built-in functions in Python that allow us to conveniently check for boolean matching in an iterable. all() will return True if all elements in an iterable are True. It is the same as this function code:\n",
        "\n",
        "    def all(iterable):\n",
        "        for element in iterable:\n",
        "            if not element:\n",
        "                return False\n",
        "        return True\n",
        "        \n",
        "any() will return True if any of the elements in the iterable are True. It is equivalent to the following function code:\n",
        "\n",
        "    def any(iterable):\n",
        "        for element in iterable:\n",
        "            if element:\n",
        "                return True\n",
        "        return False\n",
        "        "
      ],
      "metadata": {
        "id": "KO-pnb8SKaGD"
      }
    },
    {
      "cell_type": "code",
      "source": [
        "lst = [True,True,False,True]"
      ],
      "metadata": {
        "id": "85-2zSTQKe7j"
      },
      "execution_count": null,
      "outputs": []
    },
    {
      "cell_type": "code",
      "source": [
        "all(lst)"
      ],
      "metadata": {
        "colab": {
          "base_uri": "https://localhost:8080/"
        },
        "id": "rAooTOPSKmO7",
        "outputId": "b105af58-eed8-410f-80a2-230984f68a07"
      },
      "execution_count": null,
      "outputs": [
        {
          "output_type": "execute_result",
          "data": {
            "text/plain": [
              "False"
            ]
          },
          "metadata": {},
          "execution_count": 69
        }
      ]
    },
    {
      "cell_type": "markdown",
      "source": [
        "Returns False because not all elements are True."
      ],
      "metadata": {
        "id": "ojipYsOmKpUc"
      }
    },
    {
      "cell_type": "code",
      "source": [
        "any(lst)"
      ],
      "metadata": {
        "colab": {
          "base_uri": "https://localhost:8080/"
        },
        "id": "eJINOvF5KqKT",
        "outputId": "52135906-7373-4c9c-ba0a-9f8325093e85"
      },
      "execution_count": null,
      "outputs": [
        {
          "output_type": "execute_result",
          "data": {
            "text/plain": [
              "True"
            ]
          },
          "metadata": {},
          "execution_count": 70
        }
      ]
    },
    {
      "cell_type": "markdown",
      "source": [
        "Returns True because at least one of the elements in the list is True"
      ],
      "metadata": {
        "id": "9bi5wZyUKy_r"
      }
    },
    {
      "cell_type": "markdown",
      "source": [
        "## **complex()**\n",
        "\n",
        "complex() returns a complex number with the value real + imag*1j or converts a string or number to a complex number.\n",
        "\n",
        "If the first parameter is a string, it will be interpreted as a complex number and the function must be called without a second parameter. The second parameter can never be a string. Each argument may be any numeric type (including complex). If imag is omitted, it defaults to zero and the constructor serves as a numeric conversion like int and float. If both arguments are omitted, returns 0j.\n",
        "\n",
        "If you are doing math or engineering that requires complex numbers (such as dynamics, control systems, or impedance of a circuit) this is a useful tool to have in Python."
      ],
      "metadata": {
        "id": "DiD7Ox49Kz47"
      }
    },
    {
      "cell_type": "code",
      "source": [
        "# Create 2+3j\n",
        "complex(2,3)"
      ],
      "metadata": {
        "colab": {
          "base_uri": "https://localhost:8080/"
        },
        "id": "DGPJ_HUlLI_b",
        "outputId": "27451b74-1b5c-408a-dfc2-4f4e57bf2431"
      },
      "execution_count": null,
      "outputs": [
        {
          "output_type": "execute_result",
          "data": {
            "text/plain": [
              "(2+3j)"
            ]
          },
          "metadata": {},
          "execution_count": 71
        }
      ]
    },
    {
      "cell_type": "code",
      "source": [
        "complex(10,1)"
      ],
      "metadata": {
        "colab": {
          "base_uri": "https://localhost:8080/"
        },
        "id": "i8-xcY4WLPQr",
        "outputId": "f9b92b96-549d-4802-c437-782032e5d2e5"
      },
      "execution_count": null,
      "outputs": [
        {
          "output_type": "execute_result",
          "data": {
            "text/plain": [
              "(10+1j)"
            ]
          },
          "metadata": {},
          "execution_count": 72
        }
      ]
    },
    {
      "cell_type": "markdown",
      "source": [
        "We can also pass strings:"
      ],
      "metadata": {
        "id": "7U5NX-_gLSLL"
      }
    },
    {
      "cell_type": "code",
      "source": [
        "complex('12+2j')"
      ],
      "metadata": {
        "colab": {
          "base_uri": "https://localhost:8080/"
        },
        "id": "F8bBDXnvLSxj",
        "outputId": "b238e9bb-2db3-4f98-9f31-d877b7553837"
      },
      "execution_count": null,
      "outputs": [
        {
          "output_type": "execute_result",
          "data": {
            "text/plain": [
              "(12+2j)"
            ]
          },
          "metadata": {},
          "execution_count": 5
        }
      ]
    },
    {
      "cell_type": "code",
      "source": [
        "#Use map() to create a function which finds the length of each word in the phrase (broken by spaces) and return the values in a list.\n",
        "#The function will have an input of a string, and output a list of integers.\n",
        "\n",
        "def word_lengths(phrase):\n",
        "\n",
        "    return list(map(len, phrase.split()))"
      ],
      "metadata": {
        "id": "3PzDwjPTNXIT"
      },
      "execution_count": null,
      "outputs": []
    },
    {
      "cell_type": "code",
      "source": [
        "word_lengths('How long are the words in this phrase')"
      ],
      "metadata": {
        "colab": {
          "base_uri": "https://localhost:8080/"
        },
        "id": "1tVQmKoJNaMz",
        "outputId": "3fc5d8bd-1764-4982-b261-2ca9e09dad49"
      },
      "execution_count": null,
      "outputs": [
        {
          "output_type": "execute_result",
          "data": {
            "text/plain": [
              "[3, 4, 3, 3, 5, 2, 4, 6]"
            ]
          },
          "metadata": {},
          "execution_count": 77
        }
      ]
    },
    {
      "cell_type": "code",
      "source": [
        "#Use reduce() to take a list of digits and return the number that they correspond to. For example, [1,2,3] corresponds to one-hundred-twenty-three.\n",
        "#Do not convert the integers to strings!\n",
        "\n",
        "from functools import reduce\n",
        "\n",
        "def digits_to_num(digits):\n",
        "\n",
        "    return reduce(lambda x,y:x*10 + y,digits)"
      ],
      "metadata": {
        "id": "sZuWjeH8Nnms"
      },
      "execution_count": null,
      "outputs": []
    },
    {
      "cell_type": "code",
      "source": [
        "digits_to_num([3,4,3,2,1])"
      ],
      "metadata": {
        "colab": {
          "base_uri": "https://localhost:8080/"
        },
        "id": "fwn93uvqNvXs",
        "outputId": "b735be44-3b3e-4585-9dbb-1186bffded6a"
      },
      "execution_count": null,
      "outputs": [
        {
          "output_type": "execute_result",
          "data": {
            "text/plain": [
              "34321"
            ]
          },
          "metadata": {},
          "execution_count": 79
        }
      ]
    },
    {
      "cell_type": "code",
      "source": [
        "#Use filter() to return the words from a list of words which start with a target letter.\n",
        "\n",
        "def filter_words(word_list, letter):\n",
        "\n",
        "    return list(filter(lambda word:word[0]==letter,word_list))"
      ],
      "metadata": {
        "id": "0A2hN5jVNyQ9"
      },
      "execution_count": null,
      "outputs": []
    },
    {
      "cell_type": "code",
      "source": [
        "words = ['hello','are','cat','dog','ham','hi','go','to','heart']\n",
        "filter_words(words,'h')"
      ],
      "metadata": {
        "colab": {
          "base_uri": "https://localhost:8080/"
        },
        "id": "Zi62tD8PN4ls",
        "outputId": "9a9e4d96-7b74-45ce-fc6f-5d34f2910343"
      },
      "execution_count": null,
      "outputs": [
        {
          "output_type": "execute_result",
          "data": {
            "text/plain": [
              "['hello', 'ham', 'hi', 'heart']"
            ]
          },
          "metadata": {},
          "execution_count": 81
        }
      ]
    },
    {
      "cell_type": "code",
      "source": [
        "#Use zip() and a list comprehension to return a list of the same length\n",
        "#where each value is the two strings from L1 and L2 concatenated together with a connector between them. Look at the example output below:\n",
        "\n",
        "def concatenate(L1, L2, connector):\n",
        "\n",
        "    return [word1+connector+word2 for (word1,word2) in zip(L1,L2)]"
      ],
      "metadata": {
        "id": "fcZDabVFN6Rs"
      },
      "execution_count": null,
      "outputs": []
    },
    {
      "cell_type": "code",
      "source": [
        "concatenate(['A','B'],['a','b'],'-')"
      ],
      "metadata": {
        "colab": {
          "base_uri": "https://localhost:8080/"
        },
        "id": "i6FbOIxlOEM2",
        "outputId": "0363e0f8-3cb4-45c9-e979-8e1640ba056f"
      },
      "execution_count": null,
      "outputs": [
        {
          "output_type": "execute_result",
          "data": {
            "text/plain": [
              "['A-a', 'B-b']"
            ]
          },
          "metadata": {},
          "execution_count": 83
        }
      ]
    },
    {
      "cell_type": "code",
      "source": [
        "#Use enumerate() and other skills to return a dictionary which has the values of the list as keys and the index as the value.\n",
        "#You may assume that a value will only appear once in the given list.\n",
        "\n",
        "def d_list(L):\n",
        "\n",
        "    return {key:value for value,key in enumerate(L)}"
      ],
      "metadata": {
        "id": "ZQ1yuPbeOHL7"
      },
      "execution_count": null,
      "outputs": []
    },
    {
      "cell_type": "code",
      "source": [
        "d_list(['a','b','c'])"
      ],
      "metadata": {
        "colab": {
          "base_uri": "https://localhost:8080/"
        },
        "id": "fA4sx4mrONbV",
        "outputId": "d866143c-51d4-416e-a61e-64e5d080408a"
      },
      "execution_count": null,
      "outputs": [
        {
          "output_type": "execute_result",
          "data": {
            "text/plain": [
              "{'a': 0, 'b': 1, 'c': 2}"
            ]
          },
          "metadata": {},
          "execution_count": 85
        }
      ]
    },
    {
      "cell_type": "code",
      "source": [
        "#Use enumerate() and other skills from above to return the count of the number of items in the list whose value equals its index.\n",
        "\n",
        "def count_match_index(L):\n",
        "\n",
        "    return len([num for count,num in enumerate(L) if num==count])"
      ],
      "metadata": {
        "id": "KkKJJjjHOQ58"
      },
      "execution_count": null,
      "outputs": []
    },
    {
      "cell_type": "code",
      "source": [
        "count_match_index([0,2,2,1,5,5,6,10])"
      ],
      "metadata": {
        "colab": {
          "base_uri": "https://localhost:8080/"
        },
        "id": "Xz0P8u5NOVwj",
        "outputId": "3e7fa5f8-9eda-4a0c-d901-5be7d73821b8"
      },
      "execution_count": null,
      "outputs": [
        {
          "output_type": "execute_result",
          "data": {
            "text/plain": [
              "4"
            ]
          },
          "metadata": {},
          "execution_count": 87
        }
      ]
    }
  ]
}